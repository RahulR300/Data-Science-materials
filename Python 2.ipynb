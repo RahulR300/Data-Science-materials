{
 "cells": [
  {
   "cell_type": "code",
   "execution_count": 2,
   "id": "9e75e7d4",
   "metadata": {},
   "outputs": [],
   "source": [
    "first_name=\"Rahul\"\n",
    "last_name=\"Routu\""
   ]
  },
  {
   "cell_type": "code",
   "execution_count": 3,
   "id": "887c070a",
   "metadata": {},
   "outputs": [
    {
     "name": "stdout",
     "output_type": "stream",
     "text": [
      "My first name is: Rahul & my last name is: Routu\n"
     ]
    }
   ],
   "source": [
    "print(\"My first name is: {} & my last name is: {}\".format(first_name, last_name))"
   ]
  },
  {
   "cell_type": "code",
   "execution_count": 4,
   "id": "499e50da",
   "metadata": {},
   "outputs": [
    {
     "name": "stdout",
     "output_type": "stream",
     "text": [
      "My first name is: Rahul & my last name is: Routu\n"
     ]
    }
   ],
   "source": [
    "print(\"My first name is: {first} & my last name is: {last}\".format(first=first_name, last=last_name))"
   ]
  },
  {
   "cell_type": "code",
   "execution_count": 6,
   "id": "d710e15e",
   "metadata": {},
   "outputs": [
    {
     "data": {
      "text/plain": [
       "'My first name is: Rahul & my last name is: Routu'"
      ]
     },
     "execution_count": 6,
     "metadata": {},
     "output_type": "execute_result"
    }
   ],
   "source": [
    "f'My first name is: {first_name} & my last name is: {last_name}'.format(first_name, last_name)"
   ]
  },
  {
   "cell_type": "markdown",
   "id": "cdffa419",
   "metadata": {},
   "source": [
    "# LISTS"
   ]
  },
  {
   "cell_type": "code",
   "execution_count": 5,
   "id": "79546cb2",
   "metadata": {},
   "outputs": [],
   "source": [
    "a='abcde fghij'"
   ]
  },
  {
   "cell_type": "code",
   "execution_count": 6,
   "id": "35aa5a55",
   "metadata": {},
   "outputs": [
    {
     "data": {
      "text/plain": [
       "'jihgf edcba'"
      ]
     },
     "execution_count": 6,
     "metadata": {},
     "output_type": "execute_result"
    }
   ],
   "source": [
    "a[::-1]"
   ]
  },
  {
   "cell_type": "code",
   "execution_count": 7,
   "id": "9d440450",
   "metadata": {},
   "outputs": [
    {
     "data": {
      "text/plain": [
       "'jihgf edcba'"
      ]
     },
     "execution_count": 7,
     "metadata": {},
     "output_type": "execute_result"
    }
   ],
   "source": [
    "a[::-1]"
   ]
  },
  {
   "cell_type": "code",
   "execution_count": 8,
   "id": "f2c756cb",
   "metadata": {},
   "outputs": [],
   "source": [
    "lst=[11,22,33,44,55,66,77,88,99]"
   ]
  },
  {
   "cell_type": "code",
   "execution_count": 9,
   "id": "d47d6192",
   "metadata": {},
   "outputs": [
    {
     "data": {
      "text/plain": [
       "[99, 88, 77, 66, 55, 44, 33, 22, 11]"
      ]
     },
     "execution_count": 9,
     "metadata": {},
     "output_type": "execute_result"
    }
   ],
   "source": [
    "lst[::-1]"
   ]
  },
  {
   "cell_type": "code",
   "execution_count": 10,
   "id": "feb08bf6",
   "metadata": {},
   "outputs": [],
   "source": [
    "lst=['rahul',21,'vizag',530048]"
   ]
  },
  {
   "cell_type": "code",
   "execution_count": 11,
   "id": "9961baac",
   "metadata": {},
   "outputs": [
    {
     "data": {
      "text/plain": [
       "[21, 'vizag']"
      ]
     },
     "execution_count": 11,
     "metadata": {},
     "output_type": "execute_result"
    }
   ],
   "source": [
    "lst[1:3]"
   ]
  },
  {
   "cell_type": "code",
   "execution_count": 12,
   "id": "b1f30769",
   "metadata": {},
   "outputs": [],
   "source": [
    "m=[1,2,3,4,5]\n",
    "n=['a','b','c','d','e']\n",
    "k=[m,n]"
   ]
  },
  {
   "cell_type": "code",
   "execution_count": 13,
   "id": "4d9fae4a",
   "metadata": {},
   "outputs": [
    {
     "data": {
      "text/plain": [
       "[1, 2, 3, 4, 5]"
      ]
     },
     "execution_count": 13,
     "metadata": {},
     "output_type": "execute_result"
    }
   ],
   "source": [
    "m"
   ]
  },
  {
   "cell_type": "code",
   "execution_count": 14,
   "id": "98847b64",
   "metadata": {},
   "outputs": [
    {
     "data": {
      "text/plain": [
       "['a', 'b', 'c', 'd', 'e']"
      ]
     },
     "execution_count": 14,
     "metadata": {},
     "output_type": "execute_result"
    }
   ],
   "source": [
    "n"
   ]
  },
  {
   "cell_type": "code",
   "execution_count": 15,
   "id": "66d89a55",
   "metadata": {},
   "outputs": [
    {
     "data": {
      "text/plain": [
       "[[1, 2, 3, 4, 5], ['a', 'b', 'c', 'd', 'e']]"
      ]
     },
     "execution_count": 15,
     "metadata": {},
     "output_type": "execute_result"
    }
   ],
   "source": [
    "k"
   ]
  },
  {
   "cell_type": "code",
   "execution_count": 16,
   "id": "1fecd5c4",
   "metadata": {},
   "outputs": [
    {
     "data": {
      "text/plain": [
       "[['a', 'b', 'c', 'd', 'e'], [1, 2, 3, 4, 5]]"
      ]
     },
     "execution_count": 16,
     "metadata": {},
     "output_type": "execute_result"
    }
   ],
   "source": [
    "k[::-1]"
   ]
  },
  {
   "cell_type": "code",
   "execution_count": 17,
   "id": "ce486421",
   "metadata": {},
   "outputs": [],
   "source": [
    "q=k.copy()"
   ]
  },
  {
   "cell_type": "code",
   "execution_count": 18,
   "id": "c1b80f09",
   "metadata": {},
   "outputs": [],
   "source": [
    "q.reverse()"
   ]
  },
  {
   "cell_type": "code",
   "execution_count": 19,
   "id": "f7596b17",
   "metadata": {},
   "outputs": [
    {
     "data": {
      "text/plain": [
       "[['a', 'b', 'c', 'd', 'e'], [1, 2, 3, 4, 5]]"
      ]
     },
     "execution_count": 19,
     "metadata": {},
     "output_type": "execute_result"
    }
   ],
   "source": [
    "q"
   ]
  },
  {
   "cell_type": "code",
   "execution_count": 20,
   "id": "e7e6948e",
   "metadata": {},
   "outputs": [
    {
     "data": {
      "text/plain": [
       "[['e', 'd', 'c', 'b', 'a'], [5, 4, 3, 2, 1]]"
      ]
     },
     "execution_count": 20,
     "metadata": {},
     "output_type": "execute_result"
    }
   ],
   "source": [
    "m = [1, 2, 3, 4, 5]\n",
    "n = ['a', 'b', 'c', 'd', 'e']\n",
    "k = [m, n]\n",
    "\n",
    "q = [a_list[::-1] for a_list in k[::-1]]\n",
    "\n",
    "q\n"
   ]
  },
  {
   "cell_type": "code",
   "execution_count": 21,
   "id": "b1e0154f",
   "metadata": {},
   "outputs": [],
   "source": [
    "m.remove(3)"
   ]
  },
  {
   "cell_type": "code",
   "execution_count": 22,
   "id": "3d13eaea",
   "metadata": {},
   "outputs": [
    {
     "data": {
      "text/plain": [
       "[1, 2, 4, 5]"
      ]
     },
     "execution_count": 22,
     "metadata": {},
     "output_type": "execute_result"
    }
   ],
   "source": [
    "m"
   ]
  },
  {
   "cell_type": "code",
   "execution_count": 23,
   "id": "eec0be4c",
   "metadata": {},
   "outputs": [
    {
     "data": {
      "text/plain": [
       "'c'"
      ]
     },
     "execution_count": 23,
     "metadata": {},
     "output_type": "execute_result"
    }
   ],
   "source": [
    "n.pop(2)"
   ]
  },
  {
   "cell_type": "code",
   "execution_count": 24,
   "id": "9179658a",
   "metadata": {},
   "outputs": [
    {
     "data": {
      "text/plain": [
       "['a', 'b', 'd', 'e']"
      ]
     },
     "execution_count": 24,
     "metadata": {},
     "output_type": "execute_result"
    }
   ],
   "source": [
    "n"
   ]
  },
  {
   "cell_type": "code",
   "execution_count": 25,
   "id": "ca2a0d31",
   "metadata": {},
   "outputs": [
    {
     "data": {
      "text/plain": [
       "'e'"
      ]
     },
     "execution_count": 25,
     "metadata": {},
     "output_type": "execute_result"
    }
   ],
   "source": [
    "n.pop()"
   ]
  },
  {
   "cell_type": "code",
   "execution_count": 26,
   "id": "0bf708d5",
   "metadata": {},
   "outputs": [],
   "source": [
    "n.insert(3,'f')"
   ]
  },
  {
   "cell_type": "code",
   "execution_count": 27,
   "id": "731eda75",
   "metadata": {},
   "outputs": [
    {
     "data": {
      "text/plain": [
       "['a', 'b', 'd', 'f']"
      ]
     },
     "execution_count": 27,
     "metadata": {},
     "output_type": "execute_result"
    }
   ],
   "source": [
    "n"
   ]
  },
  {
   "cell_type": "code",
   "execution_count": 28,
   "id": "5a503cd2",
   "metadata": {},
   "outputs": [],
   "source": [
    "del n[1:]"
   ]
  },
  {
   "cell_type": "code",
   "execution_count": 29,
   "id": "ad98ca00",
   "metadata": {},
   "outputs": [
    {
     "data": {
      "text/plain": [
       "['a']"
      ]
     },
     "execution_count": 29,
     "metadata": {},
     "output_type": "execute_result"
    }
   ],
   "source": [
    "n"
   ]
  },
  {
   "cell_type": "code",
   "execution_count": 30,
   "id": "58627bc1",
   "metadata": {},
   "outputs": [],
   "source": [
    "n.extend(['w','x','y','z'])"
   ]
  },
  {
   "cell_type": "code",
   "execution_count": 31,
   "id": "a598f82a",
   "metadata": {},
   "outputs": [
    {
     "data": {
      "text/plain": [
       "['a', 'w', 'x', 'y', 'z']"
      ]
     },
     "execution_count": 31,
     "metadata": {},
     "output_type": "execute_result"
    }
   ],
   "source": [
    "n"
   ]
  },
  {
   "cell_type": "code",
   "execution_count": 32,
   "id": "c2a4e791",
   "metadata": {},
   "outputs": [],
   "source": [
    "n=n[::-1]"
   ]
  },
  {
   "cell_type": "code",
   "execution_count": 33,
   "id": "54b774a5",
   "metadata": {},
   "outputs": [
    {
     "data": {
      "text/plain": [
       "['z', 'y', 'x', 'w', 'a']"
      ]
     },
     "execution_count": 33,
     "metadata": {},
     "output_type": "execute_result"
    }
   ],
   "source": [
    "n"
   ]
  },
  {
   "cell_type": "code",
   "execution_count": 34,
   "id": "0d24b03f",
   "metadata": {},
   "outputs": [],
   "source": [
    "n.sort()"
   ]
  },
  {
   "cell_type": "code",
   "execution_count": 35,
   "id": "6c302f07",
   "metadata": {},
   "outputs": [
    {
     "data": {
      "text/plain": [
       "['a', 'w', 'x', 'y', 'z']"
      ]
     },
     "execution_count": 35,
     "metadata": {},
     "output_type": "execute_result"
    }
   ],
   "source": [
    "n"
   ]
  },
  {
   "cell_type": "code",
   "execution_count": 36,
   "id": "55987b9a",
   "metadata": {},
   "outputs": [],
   "source": [
    "words=['cat','Dog','ant','bat','bbat','Bat']"
   ]
  },
  {
   "cell_type": "code",
   "execution_count": 37,
   "id": "64cf6325",
   "metadata": {},
   "outputs": [],
   "source": [
    "words.sort()"
   ]
  },
  {
   "cell_type": "code",
   "execution_count": 38,
   "id": "4a84a5e7",
   "metadata": {
    "scrolled": true
   },
   "outputs": [
    {
     "data": {
      "text/plain": [
       "['Bat', 'Dog', 'ant', 'bat', 'bbat', 'cat']"
      ]
     },
     "execution_count": 38,
     "metadata": {},
     "output_type": "execute_result"
    }
   ],
   "source": [
    "words"
   ]
  },
  {
   "cell_type": "code",
   "execution_count": 39,
   "id": "54992b70",
   "metadata": {},
   "outputs": [],
   "source": [
    "words = ['cat', 'Dog', 'Ant', 'bbat', 'Bat']\n",
    "words.sort(reverse=True)"
   ]
  },
  {
   "cell_type": "code",
   "execution_count": 40,
   "id": "eee23512",
   "metadata": {},
   "outputs": [
    {
     "data": {
      "text/plain": [
       "['cat', 'bbat', 'Dog', 'Bat', 'Ant']"
      ]
     },
     "execution_count": 40,
     "metadata": {},
     "output_type": "execute_result"
    }
   ],
   "source": [
    "words"
   ]
  },
  {
   "cell_type": "code",
   "execution_count": 41,
   "id": "ca219c84",
   "metadata": {},
   "outputs": [],
   "source": [
    "nums=[25,36,95,14,12,26]"
   ]
  },
  {
   "cell_type": "code",
   "execution_count": 42,
   "id": "2cdf60eb",
   "metadata": {},
   "outputs": [],
   "source": [
    "#To delete values (95,14,12) we write the code \n",
    "\n",
    "del nums[2:5]"
   ]
  },
  {
   "cell_type": "code",
   "execution_count": 43,
   "id": "e6890136",
   "metadata": {},
   "outputs": [
    {
     "data": {
      "text/plain": [
       "[25, 36, 26]"
      ]
     },
     "execution_count": 43,
     "metadata": {},
     "output_type": "execute_result"
    }
   ],
   "source": [
    "nums"
   ]
  },
  {
   "cell_type": "code",
   "execution_count": 44,
   "id": "e816a105",
   "metadata": {},
   "outputs": [],
   "source": [
    "odd=[1,3,5]"
   ]
  },
  {
   "cell_type": "code",
   "execution_count": 45,
   "id": "139c173f",
   "metadata": {},
   "outputs": [
    {
     "data": {
      "text/plain": [
       "[1, 3, 5, 7]"
      ]
     },
     "execution_count": 45,
     "metadata": {},
     "output_type": "execute_result"
    }
   ],
   "source": [
    "odd.append(7)\n",
    "odd"
   ]
  },
  {
   "cell_type": "code",
   "execution_count": 46,
   "id": "32ae6b14",
   "metadata": {},
   "outputs": [
    {
     "data": {
      "text/plain": [
       "[1, 3, 5, 7, 9]"
      ]
     },
     "execution_count": 46,
     "metadata": {},
     "output_type": "execute_result"
    }
   ],
   "source": [
    "odd.extend([9])\n",
    "odd"
   ]
  },
  {
   "cell_type": "code",
   "execution_count": 47,
   "id": "d399c728",
   "metadata": {},
   "outputs": [],
   "source": [
    "lst1=[1,2,3,4]\n",
    "lst2=[1,2,3,4]"
   ]
  },
  {
   "cell_type": "code",
   "execution_count": 48,
   "id": "c2094018",
   "metadata": {},
   "outputs": [
    {
     "data": {
      "text/plain": [
       "2493755467200"
      ]
     },
     "execution_count": 48,
     "metadata": {},
     "output_type": "execute_result"
    }
   ],
   "source": [
    "id(lst1)"
   ]
  },
  {
   "cell_type": "code",
   "execution_count": 49,
   "id": "ec6a2729",
   "metadata": {},
   "outputs": [
    {
     "data": {
      "text/plain": [
       "2493755422528"
      ]
     },
     "execution_count": 49,
     "metadata": {},
     "output_type": "execute_result"
    }
   ],
   "source": [
    "id(lst2)"
   ]
  },
  {
   "cell_type": "code",
   "execution_count": 50,
   "id": "14687018",
   "metadata": {},
   "outputs": [
    {
     "data": {
      "text/plain": [
       "False"
      ]
     },
     "execution_count": 50,
     "metadata": {},
     "output_type": "execute_result"
    }
   ],
   "source": [
    "lst1 is lst2"
   ]
  },
  {
   "cell_type": "code",
   "execution_count": 51,
   "id": "89fb19ce",
   "metadata": {},
   "outputs": [],
   "source": [
    "l=['Data', 'Science','is','not','about','model','Science','building']"
   ]
  },
  {
   "cell_type": "code",
   "execution_count": 52,
   "id": "d2aed824",
   "metadata": {},
   "outputs": [
    {
     "name": "stdout",
     "output_type": "stream",
     "text": [
      "Science\n",
      "Science\n"
     ]
    }
   ],
   "source": [
    "for i in l:\n",
    "    if i=='Science':\n",
    "        print(i)"
   ]
  },
  {
   "cell_type": "code",
   "execution_count": 53,
   "id": "5407a7f3",
   "metadata": {},
   "outputs": [
    {
     "name": "stdout",
     "output_type": "stream",
     "text": [
      "Science\n"
     ]
    }
   ],
   "source": [
    "for i in l:\n",
    "    if i=='Science':\n",
    "        print(i)\n",
    "        break;"
   ]
  },
  {
   "cell_type": "code",
   "execution_count": 54,
   "id": "5143ec79",
   "metadata": {},
   "outputs": [
    {
     "data": {
      "text/plain": [
       "[1, 2, 3, 4, 5, 6, 7, 8]"
      ]
     },
     "execution_count": 54,
     "metadata": {},
     "output_type": "execute_result"
    }
   ],
   "source": [
    "a1=[i for i in range(1,9)]\n",
    "a1"
   ]
  },
  {
   "cell_type": "code",
   "execution_count": 55,
   "id": "0c65c2ef",
   "metadata": {},
   "outputs": [],
   "source": [
    "even_sum=0\n",
    "odd_sum=0\n",
    "\n",
    "for i in a1:\n",
    "    if i%2==0:\n",
    "        even_sum+=i\n",
    "    else:\n",
    "        odd_sum+=i"
   ]
  },
  {
   "cell_type": "code",
   "execution_count": 56,
   "id": "ddb9502e",
   "metadata": {},
   "outputs": [
    {
     "name": "stdout",
     "output_type": "stream",
     "text": [
      "20\n",
      "16\n"
     ]
    }
   ],
   "source": [
    "print(even_sum)\n",
    "print(odd_sum)"
   ]
  },
  {
   "cell_type": "code",
   "execution_count": 57,
   "id": "890b4210",
   "metadata": {},
   "outputs": [
    {
     "data": {
      "text/plain": [
       "[1, 2, 3, 4, 5, 6, 7, 8]"
      ]
     },
     "execution_count": 57,
     "metadata": {},
     "output_type": "execute_result"
    }
   ],
   "source": [
    "[num for num in a1]"
   ]
  },
  {
   "cell_type": "code",
   "execution_count": 58,
   "id": "870156c7",
   "metadata": {},
   "outputs": [
    {
     "data": {
      "text/plain": [
       "20"
      ]
     },
     "execution_count": 58,
     "metadata": {},
     "output_type": "execute_result"
    }
   ],
   "source": [
    "even_sum=sum([num for num in a1 if num%2==0])\n",
    "even_sum"
   ]
  },
  {
   "cell_type": "code",
   "execution_count": 59,
   "id": "3b449ddc",
   "metadata": {},
   "outputs": [
    {
     "data": {
      "text/plain": [
       "16"
      ]
     },
     "execution_count": 59,
     "metadata": {},
     "output_type": "execute_result"
    }
   ],
   "source": [
    "odd_sum=sum([num for num in a1 if num%2!=0])\n",
    "odd_sum"
   ]
  },
  {
   "cell_type": "code",
   "execution_count": 60,
   "id": "eb515209",
   "metadata": {},
   "outputs": [],
   "source": [
    "nums=[-1,-2,-3,-4,0,4,3,2,1]"
   ]
  },
  {
   "cell_type": "code",
   "execution_count": 61,
   "id": "b273cfcb",
   "metadata": {},
   "outputs": [
    {
     "data": {
      "text/plain": [
       "[4, 3, 2, 1]"
      ]
     },
     "execution_count": 61,
     "metadata": {},
     "output_type": "execute_result"
    }
   ],
   "source": [
    "[num for num in nums if num>0]"
   ]
  },
  {
   "cell_type": "code",
   "execution_count": 62,
   "id": "8cc69e00",
   "metadata": {},
   "outputs": [
    {
     "data": {
      "text/plain": [
       "[-1, -2, -3, -4]"
      ]
     },
     "execution_count": 62,
     "metadata": {},
     "output_type": "execute_result"
    }
   ],
   "source": [
    "[num for num in nums if num<0]"
   ]
  },
  {
   "cell_type": "code",
   "execution_count": 63,
   "id": "e6982344",
   "metadata": {},
   "outputs": [
    {
     "data": {
      "text/plain": [
       "['b', 'a', 'p', 'p', 'a']"
      ]
     },
     "execution_count": 63,
     "metadata": {},
     "output_type": "execute_result"
    }
   ],
   "source": [
    "fruits=['banana','apple','pineapple','papaya','almond']\n",
    "[i[0] for i in fruits]"
   ]
  },
  {
   "cell_type": "markdown",
   "id": "c1615479",
   "metadata": {},
   "source": [
    "temperatures: 9/5*temp+32"
   ]
  },
  {
   "cell_type": "code",
   "execution_count": 64,
   "id": "8d6f6240",
   "metadata": {},
   "outputs": [
    {
     "name": "stdout",
     "output_type": "stream",
     "text": [
      "enter n:45\n",
      "113.0\n"
     ]
    }
   ],
   "source": [
    "c=int(input(\"enter n:\"))\n",
    "\n",
    "f=(9/5*c+32)\n",
    "print(f)"
   ]
  },
  {
   "cell_type": "code",
   "execution_count": 65,
   "id": "eca95d7a",
   "metadata": {},
   "outputs": [
    {
     "data": {
      "text/plain": [
       "[32.0, 86.0, 113.0, 95.0, 104.0, 122.0]"
      ]
     },
     "execution_count": 65,
     "metadata": {},
     "output_type": "execute_result"
    }
   ],
   "source": [
    "c_temp=[0,30,45,35,40,50]\n",
    "\n",
    "[9/5*temp+32 for temp in c_temp]"
   ]
  },
  {
   "cell_type": "code",
   "execution_count": 66,
   "id": "f6246062",
   "metadata": {},
   "outputs": [
    {
     "data": {
      "text/plain": [
       "[1, 2, 3, 4, 5, 6, 7, 8, 9]"
      ]
     },
     "execution_count": 66,
     "metadata": {},
     "output_type": "execute_result"
    }
   ],
   "source": [
    "lists=[[1,2,3],[4,5,6],[7,8,9]]\n",
    "\n",
    "[i for j in lists for i in j]"
   ]
  },
  {
   "cell_type": "code",
   "execution_count": 67,
   "id": "4a596ed2",
   "metadata": {},
   "outputs": [
    {
     "name": "stdout",
     "output_type": "stream",
     "text": [
      "True\n",
      "False\n"
     ]
    }
   ],
   "source": [
    "def is_prime(n):\n",
    "    if n <= 1:\n",
    "        return False  \n",
    "    if n <= 3:\n",
    "        return True  \n",
    "\n",
    "    # Eliminate multiples of 2 and 3\n",
    "    if n % 2 == 0 or n % 3 == 0:\n",
    "        return False\n",
    "\n",
    "    i = 5\n",
    "    while i * i <= n:\n",
    "        if n % i == 0 or n % (i + 2) == 0:\n",
    "            return False\n",
    "        i += 6\n",
    "\n",
    "    return True\n",
    "\n",
    "#  usage\n",
    "print(is_prime(29)) \n",
    "print(is_prime(15)) "
   ]
  },
  {
   "cell_type": "code",
   "execution_count": 68,
   "id": "2ef182bb",
   "metadata": {},
   "outputs": [
    {
     "name": "stdout",
     "output_type": "stream",
     "text": [
      "[(1, 2), (1, 3), (1, 4), (1, 5), (2, 3), (2, 4), (2, 5), (3, 4), (3, 5), (4, 5)]\n"
     ]
    }
   ],
   "source": [
    "from itertools import combinations\n",
    "\n",
    "lst = [1, 2, 3, 4, 5]\n",
    "\n",
    "combinations_list = list(combinations(lst, 2))\n",
    "\n",
    "print(combinations_list)"
   ]
  },
  {
   "cell_type": "code",
   "execution_count": 69,
   "id": "8108d726",
   "metadata": {},
   "outputs": [
    {
     "name": "stdout",
     "output_type": "stream",
     "text": [
      "[(1, 2), (1, 3), (1, 4), (1, 5), (2, 3), (2, 4), (2, 5), (3, 4), (3, 5), (4, 5)]\n"
     ]
    }
   ],
   "source": [
    "# Given list\n",
    "lst = [1, 2, 3, 4, 5]\n",
    "\n",
    "# Generate all combinations of 2 elements using list comprehensions\n",
    "combinations_list = [(lst[i], lst[j]) for (i) in range(len(lst)) for j in range(i+1, len(lst))]\n",
    "\n",
    "# Print the combinations\n",
    "print(combinations_list)\n"
   ]
  },
  {
   "cell_type": "code",
   "execution_count": null,
   "id": "9310cbf2",
   "metadata": {},
   "outputs": [],
   "source": []
  },
  {
   "cell_type": "code",
   "execution_count": 70,
   "id": "9fd6b672",
   "metadata": {},
   "outputs": [
    {
     "data": {
      "text/plain": [
       "15.5"
      ]
     },
     "execution_count": 70,
     "metadata": {},
     "output_type": "execute_result"
    }
   ],
   "source": [
    "# Python implicit conversion\n",
    "num_int = 10\n",
    "num_float = 5.5\n",
    "result = num_int + num_float  # Implicit type conversion from int to float\n",
    "result"
   ]
  },
  {
   "cell_type": "code",
   "execution_count": 71,
   "id": "15eccd0a",
   "metadata": {},
   "outputs": [],
   "source": [
    "# Comprehensions: [expression for item in iterable if condition]"
   ]
  },
  {
   "cell_type": "code",
   "execution_count": 72,
   "id": "c0163577",
   "metadata": {
    "scrolled": true
   },
   "outputs": [
    {
     "name": "stdout",
     "output_type": "stream",
     "text": [
      "[25, 36, 26]\n"
     ]
    }
   ],
   "source": [
    "nums = [25, 36, 95, 14, 12, 26]\n",
    "\n",
    "delete = [95, 14, 12]\n",
    "for item in delete:\n",
    "    while item in nums:\n",
    "        nums.remove(item)\n",
    "\n",
    "print(nums)"
   ]
  },
  {
   "cell_type": "code",
   "execution_count": 73,
   "id": "e66c4708",
   "metadata": {},
   "outputs": [
    {
     "data": {
      "text/plain": [
       "15.5"
      ]
     },
     "execution_count": 73,
     "metadata": {},
     "output_type": "execute_result"
    }
   ],
   "source": [
    "# Python implicit conversion\n",
    "num_int = 10\n",
    "num_float = 5.5\n",
    "result = num_int + num_float  # Implicit type conversion from int to float\n",
    "result"
   ]
  },
  {
   "cell_type": "markdown",
   "id": "d30d7f5f",
   "metadata": {},
   "source": [
    "# Tuples"
   ]
  },
  {
   "cell_type": "code",
   "execution_count": 74,
   "id": "388b0ddb",
   "metadata": {},
   "outputs": [],
   "source": [
    "tup=(11,22,33,44,55)  #tuples are faster than list"
   ]
  },
  {
   "cell_type": "code",
   "execution_count": 75,
   "id": "452a1500",
   "metadata": {},
   "outputs": [
    {
     "data": {
      "text/plain": [
       "11"
      ]
     },
     "execution_count": 75,
     "metadata": {},
     "output_type": "execute_result"
    }
   ],
   "source": [
    "tup[0]"
   ]
  },
  {
   "cell_type": "code",
   "execution_count": 76,
   "id": "723f2024",
   "metadata": {},
   "outputs": [
    {
     "name": "stdout",
     "output_type": "stream",
     "text": [
      "0:11\n",
      "1:22\n",
      "2:33\n",
      "3:44\n",
      "4:55\n"
     ]
    }
   ],
   "source": [
    "for i,j in enumerate(tup):\n",
    "    print(f\"{i}:{j}\")"
   ]
  },
  {
   "cell_type": "code",
   "execution_count": 77,
   "id": "bafe627e",
   "metadata": {
    "scrolled": true
   },
   "outputs": [],
   "source": [
    "t=sorted(tup)"
   ]
  },
  {
   "cell_type": "code",
   "execution_count": 78,
   "id": "8c528847",
   "metadata": {},
   "outputs": [
    {
     "data": {
      "text/plain": [
       "[11, 22, 33, 44, 55]"
      ]
     },
     "execution_count": 78,
     "metadata": {},
     "output_type": "execute_result"
    }
   ],
   "source": [
    "t"
   ]
  },
  {
   "cell_type": "code",
   "execution_count": 79,
   "id": "7d34d369",
   "metadata": {},
   "outputs": [
    {
     "data": {
      "text/plain": [
       "list"
      ]
     },
     "execution_count": 79,
     "metadata": {},
     "output_type": "execute_result"
    }
   ],
   "source": [
    "type(t)"
   ]
  },
  {
   "cell_type": "code",
   "execution_count": 80,
   "id": "9cac206d",
   "metadata": {},
   "outputs": [
    {
     "name": "stdout",
     "output_type": "stream",
     "text": [
      "(1, 1, 2, 3, 4, 5, 5, 6, 9)\n"
     ]
    }
   ],
   "source": [
    "tup = (3, 1, 4, 1, 5, 9, 2, 6, 5)\n",
    "\n",
    "sorted_tup = tuple(sorted(tup))\n",
    "\n",
    "print(sorted_tup)"
   ]
  },
  {
   "cell_type": "code",
   "execution_count": 81,
   "id": "4371efa0",
   "metadata": {},
   "outputs": [
    {
     "name": "stdout",
     "output_type": "stream",
     "text": [
      "(1, 1, 2, 3, 4, 5, 5, 6, 9)\n"
     ]
    }
   ],
   "source": [
    "tup = (3, 1, 4, 1, 5, 9, 2, 6, 5)\n",
    "\n",
    "sorted_tup = tuple(sorted(tup))\n",
    "\n",
    "print(sorted_tup)\n"
   ]
  },
  {
   "cell_type": "code",
   "execution_count": 82,
   "id": "86308827",
   "metadata": {},
   "outputs": [],
   "source": [
    "ty=[8,5,4,3,8,2,76,8]\n",
    "ty.sort(reverse=True)"
   ]
  },
  {
   "cell_type": "code",
   "execution_count": 83,
   "id": "eb4303e9",
   "metadata": {},
   "outputs": [
    {
     "data": {
      "text/plain": [
       "[76, 8, 8, 8, 5, 4, 3, 2]"
      ]
     },
     "execution_count": 83,
     "metadata": {},
     "output_type": "execute_result"
    }
   ],
   "source": [
    "ty"
   ]
  },
  {
   "cell_type": "code",
   "execution_count": 84,
   "id": "ec471c49",
   "metadata": {},
   "outputs": [],
   "source": [
    "a=[4,6,3,6,2,8,1,9,6]\n",
    "\n",
    "b=sorted(a)"
   ]
  },
  {
   "cell_type": "code",
   "execution_count": 85,
   "id": "e3c9a036",
   "metadata": {},
   "outputs": [
    {
     "name": "stdout",
     "output_type": "stream",
     "text": [
      "[1, 2, 3, 4, 6, 6, 6, 8, 9]\n"
     ]
    }
   ],
   "source": [
    "print(b)"
   ]
  },
  {
   "cell_type": "code",
   "execution_count": 86,
   "id": "ebe5c897",
   "metadata": {},
   "outputs": [],
   "source": [
    "x=(4,6,3,6,2,8,1,9,6)\n",
    "\n",
    "b=tuple(sorted(a))"
   ]
  },
  {
   "cell_type": "code",
   "execution_count": 87,
   "id": "53cdf2e6",
   "metadata": {},
   "outputs": [
    {
     "data": {
      "text/plain": [
       "1"
      ]
     },
     "execution_count": 87,
     "metadata": {},
     "output_type": "execute_result"
    }
   ],
   "source": [
    "x.index(6)"
   ]
  },
  {
   "cell_type": "code",
   "execution_count": 88,
   "id": "03fce488",
   "metadata": {
    "scrolled": true
   },
   "outputs": [
    {
     "data": {
      "text/plain": [
       "(1, 2, 3, 4, 6, 6, 6, 8, 9)"
      ]
     },
     "execution_count": 88,
     "metadata": {},
     "output_type": "execute_result"
    }
   ],
   "source": [
    "b"
   ]
  },
  {
   "cell_type": "code",
   "execution_count": 89,
   "id": "30e0a508",
   "metadata": {
    "scrolled": true
   },
   "outputs": [
    {
     "data": {
      "text/plain": [
       "['Jane Doe', 25, 1.75, 'Canada']"
      ]
     },
     "execution_count": 89,
     "metadata": {},
     "output_type": "execute_result"
    }
   ],
   "source": [
    "list([\"Jane Doe\", 25, 1.75, \"Canada\"])"
   ]
  },
  {
   "cell_type": "code",
   "execution_count": 90,
   "id": "ac15643e",
   "metadata": {},
   "outputs": [
    {
     "data": {
      "text/plain": [
       "(0, 1, 8, 27, 64, 125, 216, 343, 512, 729)"
      ]
     },
     "execution_count": 90,
     "metadata": {},
     "output_type": "execute_result"
    }
   ],
   "source": [
    "tuple(x**3 for x in range(10))"
   ]
  },
  {
   "cell_type": "code",
   "execution_count": 91,
   "id": "77e430d8",
   "metadata": {},
   "outputs": [
    {
     "data": {
      "text/plain": [
       "4"
      ]
     },
     "execution_count": 91,
     "metadata": {},
     "output_type": "execute_result"
    }
   ],
   "source": [
    "jane = (\"Jane Doe\", 25, 1.75, \"Canada\")\n",
    "len(jane)"
   ]
  },
  {
   "cell_type": "code",
   "execution_count": 92,
   "id": "a147cc8d",
   "metadata": {},
   "outputs": [],
   "source": [
    "employee = (\"John\",35,\"Python Developer\",(\"Django\", \"Flask\", \"FastAPI\", \"CSS\", \"HTML\"))"
   ]
  },
  {
   "cell_type": "code",
   "execution_count": 93,
   "id": "a6a3cfe1",
   "metadata": {},
   "outputs": [
    {
     "data": {
      "text/plain": [
       "'Django'"
      ]
     },
     "execution_count": 93,
     "metadata": {},
     "output_type": "execute_result"
    }
   ],
   "source": [
    "employee[-1][0]"
   ]
  },
  {
   "cell_type": "code",
   "execution_count": 94,
   "id": "3b3164f4",
   "metadata": {},
   "outputs": [
    {
     "data": {
      "text/plain": [
       "'Flask'"
      ]
     },
     "execution_count": 94,
     "metadata": {},
     "output_type": "execute_result"
    }
   ],
   "source": [
    "employee[-1][1]"
   ]
  },
  {
   "cell_type": "code",
   "execution_count": 95,
   "id": "b329cbca",
   "metadata": {},
   "outputs": [
    {
     "name": "stdout",
     "output_type": "stream",
     "text": [
      "(4, 16, 36, 64, 100)\n"
     ]
    }
   ],
   "source": [
    "squares = tuple(x**2 for x in range(1, 11) if x % 2 == 0)\n",
    "print(squares) "
   ]
  },
  {
   "cell_type": "code",
   "execution_count": 96,
   "id": "08a1b6c7",
   "metadata": {},
   "outputs": [],
   "source": [
    "# we can't change values in the tuple"
   ]
  },
  {
   "cell_type": "code",
   "execution_count": 97,
   "id": "c73319e1",
   "metadata": {},
   "outputs": [
    {
     "name": "stdout",
     "output_type": "stream",
     "text": [
      "Hello, Alice! You are 30 years old\n"
     ]
    }
   ],
   "source": [
    "def greet(name, age):\n",
    "    print(\"Hello, {}! You are {} years old\".format(name,age))\n",
    "\n",
    "greet(age=30, name=\"Alice\")  # The order is reversed, but each argument is explicitly associated with its parameter name\n"
   ]
  },
  {
   "cell_type": "code",
   "execution_count": 98,
   "id": "1e4811ac",
   "metadata": {
    "scrolled": true
   },
   "outputs": [
    {
     "name": "stdout",
     "output_type": "stream",
     "text": [
      "Wed Jun 05 12 46 57 India Standard Time 2024\n"
     ]
    }
   ],
   "source": [
    "import time;\n",
    "ltime = time.localtime();\n",
    "print(time.strftime(\"%a %b %d %H %M %S %Z %Y\", ltime))"
   ]
  },
  {
   "cell_type": "markdown",
   "id": "00c7c781",
   "metadata": {},
   "source": [
    "# Sets"
   ]
  },
  {
   "cell_type": "code",
   "execution_count": 99,
   "id": "02e85a79",
   "metadata": {},
   "outputs": [],
   "source": [
    "s={}   "
   ]
  },
  {
   "cell_type": "code",
   "execution_count": 100,
   "id": "e0403b57",
   "metadata": {},
   "outputs": [
    {
     "data": {
      "text/plain": [
       "dict"
      ]
     },
     "execution_count": 100,
     "metadata": {},
     "output_type": "execute_result"
    }
   ],
   "source": [
    "type(s)"
   ]
  },
  {
   "cell_type": "code",
   "execution_count": 101,
   "id": "6dab7ecc",
   "metadata": {},
   "outputs": [
    {
     "data": {
      "text/plain": [
       "set"
      ]
     },
     "execution_count": 101,
     "metadata": {},
     "output_type": "execute_result"
    }
   ],
   "source": [
    "s1={1,2,3,4}\n",
    "type(s1)    #No duplicates"
   ]
  },
  {
   "cell_type": "code",
   "execution_count": 102,
   "id": "257ab254",
   "metadata": {
    "scrolled": true
   },
   "outputs": [
    {
     "name": "stdout",
     "output_type": "stream",
     "text": [
      "{65, 34, 2, 'red', 78, 654, 63}\n"
     ]
    }
   ],
   "source": [
    "s={34,2,65,78,'red',63,654}\n",
    "print(s)"
   ]
  },
  {
   "cell_type": "code",
   "execution_count": 103,
   "id": "6f8f0bb4",
   "metadata": {
    "scrolled": true
   },
   "outputs": [
    {
     "data": {
      "text/plain": [
       "{2, 34, 63, 65, 654, 78, 'red'}"
      ]
     },
     "execution_count": 103,
     "metadata": {},
     "output_type": "execute_result"
    }
   ],
   "source": [
    "s"
   ]
  },
  {
   "cell_type": "code",
   "execution_count": 104,
   "id": "6d65df94",
   "metadata": {},
   "outputs": [],
   "source": [
    "s2={1,2,3,4,4,6,5,5}"
   ]
  },
  {
   "cell_type": "code",
   "execution_count": 105,
   "id": "f7b9859d",
   "metadata": {},
   "outputs": [
    {
     "data": {
      "text/plain": [
       "{1, 2, 3, 4, 5, 6}"
      ]
     },
     "execution_count": 105,
     "metadata": {},
     "output_type": "execute_result"
    }
   ],
   "source": [
    "s2"
   ]
  },
  {
   "cell_type": "code",
   "execution_count": 106,
   "id": "8a192fc0",
   "metadata": {},
   "outputs": [],
   "source": [
    "l=list(s2)"
   ]
  },
  {
   "cell_type": "code",
   "execution_count": 107,
   "id": "43b42a34",
   "metadata": {},
   "outputs": [],
   "source": [
    "t=tuple(s2)"
   ]
  },
  {
   "cell_type": "code",
   "execution_count": 108,
   "id": "87d93505",
   "metadata": {},
   "outputs": [
    {
     "data": {
      "text/plain": [
       "{1, 2, 3, 4, 5, 6}"
      ]
     },
     "execution_count": 108,
     "metadata": {},
     "output_type": "execute_result"
    }
   ],
   "source": [
    "set(l)"
   ]
  },
  {
   "cell_type": "code",
   "execution_count": 109,
   "id": "30a58881",
   "metadata": {},
   "outputs": [
    {
     "data": {
      "text/plain": [
       "{1, 2, 3, 4, 5, 6}"
      ]
     },
     "execution_count": 109,
     "metadata": {},
     "output_type": "execute_result"
    }
   ],
   "source": [
    "set(t)"
   ]
  },
  {
   "cell_type": "markdown",
   "id": "26fedb55",
   "metadata": {},
   "source": [
    "s3={1,2,3,4,[5,6,7]}   \n",
    "#since the lists are mutable, set does not allow mutable "
   ]
  },
  {
   "cell_type": "code",
   "execution_count": 110,
   "id": "bd1c3ea3",
   "metadata": {},
   "outputs": [
    {
     "data": {
      "text/plain": [
       "{(5, 6, 7), 1, 2, 3, 4}"
      ]
     },
     "execution_count": 110,
     "metadata": {},
     "output_type": "execute_result"
    }
   ],
   "source": [
    "s3={1,2,3,4,(5,6,7)}\n",
    "s3      #printed since tuple is immutable "
   ]
  },
  {
   "cell_type": "code",
   "execution_count": 111,
   "id": "80c2fab5",
   "metadata": {},
   "outputs": [
    {
     "data": {
      "text/plain": [
       "{'Rahul', 'rahul'}"
      ]
     },
     "execution_count": 111,
     "metadata": {},
     "output_type": "execute_result"
    }
   ],
   "source": [
    "s4={'Rahul','rahul'}\n",
    "s4      #since python is a case sensitive language"
   ]
  },
  {
   "cell_type": "code",
   "execution_count": 112,
   "id": "32641b93",
   "metadata": {},
   "outputs": [
    {
     "name": "stdout",
     "output_type": "stream",
     "text": [
      "Rahul\n",
      "rahul\n"
     ]
    }
   ],
   "source": [
    "#No indexing but can retrieve using for loop\n",
    "for i in s4:\n",
    "    print(i)"
   ]
  },
  {
   "cell_type": "code",
   "execution_count": 113,
   "id": "98cb74e7",
   "metadata": {},
   "outputs": [
    {
     "data": {
      "text/plain": [
       "{2, 'Rahul', 'rahul'}"
      ]
     },
     "execution_count": 113,
     "metadata": {},
     "output_type": "execute_result"
    }
   ],
   "source": [
    "s4.add(2)\n",
    "s4"
   ]
  },
  {
   "cell_type": "code",
   "execution_count": 114,
   "id": "7f1124b1",
   "metadata": {},
   "outputs": [
    {
     "data": {
      "text/plain": [
       "{2, 'Rahul', 'rahul'}"
      ]
     },
     "execution_count": 114,
     "metadata": {},
     "output_type": "execute_result"
    }
   ],
   "source": [
    "s4.add(2)\n",
    "s4       #no duplications"
   ]
  },
  {
   "cell_type": "code",
   "execution_count": 115,
   "id": "b3e01051",
   "metadata": {},
   "outputs": [
    {
     "data": {
      "text/plain": [
       "3"
      ]
     },
     "execution_count": 115,
     "metadata": {},
     "output_type": "execute_result"
    }
   ],
   "source": [
    "len(s4)"
   ]
  },
  {
   "cell_type": "code",
   "execution_count": 116,
   "id": "817f6b31",
   "metadata": {},
   "outputs": [
    {
     "data": {
      "text/plain": [
       "set()"
      ]
     },
     "execution_count": 116,
     "metadata": {},
     "output_type": "execute_result"
    }
   ],
   "source": [
    "s2.clear()\n",
    "s2"
   ]
  },
  {
   "cell_type": "code",
   "execution_count": 117,
   "id": "96bd5ce3",
   "metadata": {},
   "outputs": [
    {
     "name": "stdout",
     "output_type": "stream",
     "text": [
      "{9}\n",
      "{8}\n"
     ]
    }
   ],
   "source": [
    "s5={5,6,7,8}\n",
    "s6={5,6,7,9}\n",
    "\n",
    "print(s6.difference(s5))\n",
    "print(s5.difference(s6))"
   ]
  },
  {
   "cell_type": "code",
   "execution_count": 118,
   "id": "941836de",
   "metadata": {},
   "outputs": [
    {
     "data": {
      "text/plain": [
       "{False, True}"
      ]
     },
     "execution_count": 118,
     "metadata": {},
     "output_type": "execute_result"
    }
   ],
   "source": [
    "set1={True,False,1,0}\n",
    "set1"
   ]
  },
  {
   "cell_type": "code",
   "execution_count": 119,
   "id": "3e4bbdbc",
   "metadata": {},
   "outputs": [
    {
     "data": {
      "text/plain": [
       "-769"
      ]
     },
     "execution_count": 119,
     "metadata": {},
     "output_type": "execute_result"
    }
   ],
   "source": [
    "~768"
   ]
  },
  {
   "cell_type": "markdown",
   "id": "87dce6be",
   "metadata": {},
   "source": [
    "# Dictionary"
   ]
  },
  {
   "cell_type": "code",
   "execution_count": 120,
   "id": "d68fb6eb",
   "metadata": {},
   "outputs": [],
   "source": [
    "d={\"name\": 'Rahul', 'age': 21, 'email': 'rahul@outlook.com', 'number': 595}"
   ]
  },
  {
   "cell_type": "code",
   "execution_count": 121,
   "id": "61347003",
   "metadata": {},
   "outputs": [
    {
     "data": {
      "text/plain": [
       "dict"
      ]
     },
     "execution_count": 121,
     "metadata": {},
     "output_type": "execute_result"
    }
   ],
   "source": [
    "type(d)"
   ]
  },
  {
   "cell_type": "code",
   "execution_count": 122,
   "id": "fc0d65de",
   "metadata": {},
   "outputs": [
    {
     "data": {
      "text/plain": [
       "{'name': 'Rahul', 'age': 21, 'email': 'rahul@outlook.com', 'number': 595}"
      ]
     },
     "execution_count": 122,
     "metadata": {},
     "output_type": "execute_result"
    }
   ],
   "source": [
    "d  #dicts only takes tuples as keys, booleans too.."
   ]
  },
  {
   "cell_type": "code",
   "execution_count": 123,
   "id": "c8a88ae1",
   "metadata": {},
   "outputs": [
    {
     "data": {
      "text/plain": [
       "{'name': 'Rahul Routu'}"
      ]
     },
     "execution_count": 123,
     "metadata": {},
     "output_type": "execute_result"
    }
   ],
   "source": [
    "d1={\"name\": 'Rahul',\"name\": 'Rahul Routu'}\n",
    "d1   #key should be unique, in this case we are updating the key.."
   ]
  },
  {
   "cell_type": "code",
   "execution_count": 124,
   "id": "c756acf7",
   "metadata": {},
   "outputs": [
    {
     "data": {
      "text/plain": [
       "{'course': ['DS', 'FS', 'AI', 'ML']}"
      ]
     },
     "execution_count": 124,
     "metadata": {},
     "output_type": "execute_result"
    }
   ],
   "source": [
    "d12={\"course\":['DS','FS','AI',\"ML\"]}\n",
    "d12"
   ]
  },
  {
   "cell_type": "code",
   "execution_count": 125,
   "id": "926bda39",
   "metadata": {},
   "outputs": [
    {
     "data": {
      "text/plain": [
       "{'key': {'name': 'Rahul',\n",
       "  'age': 21,\n",
       "  'email': 'rahul@outlook.com',\n",
       "  'number': 595}}"
      ]
     },
     "execution_count": 125,
     "metadata": {},
     "output_type": "execute_result"
    }
   ],
   "source": [
    "d13={'key':{\"name\": 'Rahul', 'age': 21, 'email': 'rahul@outlook.com', 'number': 595}}\n",
    "d13"
   ]
  },
  {
   "cell_type": "code",
   "execution_count": 126,
   "id": "d4fa8d1b",
   "metadata": {},
   "outputs": [
    {
     "data": {
      "text/plain": [
       "{'course': ['DS', 'FS', 'AI', 'ML'],\n",
       " 'st date': (28, 5, 24),\n",
       " 'mentors': ['ram', 'raj', 'sam']}"
      ]
     },
     "execution_count": 126,
     "metadata": {},
     "output_type": "execute_result"
    }
   ],
   "source": [
    "d14={\"course\":['DS','FS','AI',\"ML\"],\"st date\":(28,5,24), 'mentors': ['ram','raj','sam']}\n",
    "d14"
   ]
  },
  {
   "cell_type": "code",
   "execution_count": 127,
   "id": "cb208126",
   "metadata": {},
   "outputs": [],
   "source": [
    "d14[\"timing\"]=(8,6,24)"
   ]
  },
  {
   "cell_type": "code",
   "execution_count": 128,
   "id": "89116682",
   "metadata": {},
   "outputs": [
    {
     "data": {
      "text/plain": [
       "{'course': ['DS', 'FS', 'AI', 'ML'],\n",
       " 'st date': (28, 5, 24),\n",
       " 'mentors': ['ram', 'raj', 'sam'],\n",
       " 'timing': (8, 6, 24)}"
      ]
     },
     "execution_count": 128,
     "metadata": {},
     "output_type": "execute_result"
    }
   ],
   "source": [
    "d14"
   ]
  },
  {
   "cell_type": "code",
   "execution_count": 129,
   "id": "a9f7aca3",
   "metadata": {},
   "outputs": [
    {
     "data": {
      "text/plain": [
       "['DS', 'FS', 'AI', 'ML']"
      ]
     },
     "execution_count": 129,
     "metadata": {},
     "output_type": "execute_result"
    }
   ],
   "source": [
    "d14['course']"
   ]
  },
  {
   "cell_type": "code",
   "execution_count": 130,
   "id": "548654f5",
   "metadata": {},
   "outputs": [
    {
     "data": {
      "text/plain": [
       "tuple"
      ]
     },
     "execution_count": 130,
     "metadata": {},
     "output_type": "execute_result"
    }
   ],
   "source": [
    "type(d14['st date'])"
   ]
  },
  {
   "cell_type": "code",
   "execution_count": 131,
   "id": "9803dce2",
   "metadata": {},
   "outputs": [],
   "source": [
    "d14['name']='Ramesh'"
   ]
  },
  {
   "cell_type": "code",
   "execution_count": 132,
   "id": "8ec75be0",
   "metadata": {
    "scrolled": true
   },
   "outputs": [
    {
     "data": {
      "text/plain": [
       "{'course': ['DS', 'FS', 'AI', 'ML'],\n",
       " 'st date': (28, 5, 24),\n",
       " 'mentors': ['ram', 'raj', 'sam'],\n",
       " 'timing': (8, 6, 24),\n",
       " 'name': 'Ramesh'}"
      ]
     },
     "execution_count": 132,
     "metadata": {},
     "output_type": "execute_result"
    }
   ],
   "source": [
    "d14"
   ]
  },
  {
   "cell_type": "code",
   "execution_count": 133,
   "id": "e3530784",
   "metadata": {},
   "outputs": [
    {
     "data": {
      "text/plain": [
       "'RAMESH'"
      ]
     },
     "execution_count": 133,
     "metadata": {},
     "output_type": "execute_result"
    }
   ],
   "source": [
    "d14['name'].upper()"
   ]
  },
  {
   "cell_type": "code",
   "execution_count": 134,
   "id": "bc5f6c63",
   "metadata": {},
   "outputs": [],
   "source": [
    "d15={'key':{'name':'Rahul', 'class': 'DSFS'}}"
   ]
  },
  {
   "cell_type": "code",
   "execution_count": 135,
   "id": "03e55fc9",
   "metadata": {},
   "outputs": [
    {
     "data": {
      "text/plain": [
       "{'key': {'name': 'Rahul', 'class': 'DSFS'}}"
      ]
     },
     "execution_count": 135,
     "metadata": {},
     "output_type": "execute_result"
    }
   ],
   "source": [
    "d15"
   ]
  },
  {
   "cell_type": "code",
   "execution_count": 136,
   "id": "84287b2d",
   "metadata": {},
   "outputs": [
    {
     "data": {
      "text/plain": [
       "dict"
      ]
     },
     "execution_count": 136,
     "metadata": {},
     "output_type": "execute_result"
    }
   ],
   "source": [
    "type(d15['key'])"
   ]
  },
  {
   "cell_type": "code",
   "execution_count": 137,
   "id": "dbe26f25",
   "metadata": {},
   "outputs": [
    {
     "data": {
      "text/plain": [
       "'DSFS'"
      ]
     },
     "execution_count": 137,
     "metadata": {},
     "output_type": "execute_result"
    }
   ],
   "source": [
    "d15['key']['class']"
   ]
  },
  {
   "cell_type": "code",
   "execution_count": 138,
   "id": "efa48817",
   "metadata": {},
   "outputs": [],
   "source": [
    "d15['key1']='abc'"
   ]
  },
  {
   "cell_type": "code",
   "execution_count": 139,
   "id": "2a1972ce",
   "metadata": {},
   "outputs": [
    {
     "data": {
      "text/plain": [
       "{'key': {'name': 'Rahul', 'class': 'DSFS'}, 'key1': 'abc'}"
      ]
     },
     "execution_count": 139,
     "metadata": {},
     "output_type": "execute_result"
    }
   ],
   "source": [
    "d15"
   ]
  },
  {
   "cell_type": "code",
   "execution_count": 140,
   "id": "d32b3b8d",
   "metadata": {},
   "outputs": [],
   "source": [
    "del d15['key1']"
   ]
  },
  {
   "cell_type": "code",
   "execution_count": 141,
   "id": "de4b9cbf",
   "metadata": {},
   "outputs": [
    {
     "data": {
      "text/plain": [
       "{'key': {'name': 'Rahul', 'class': 'DSFS'}}"
      ]
     },
     "execution_count": 141,
     "metadata": {},
     "output_type": "execute_result"
    }
   ],
   "source": [
    "d15"
   ]
  },
  {
   "cell_type": "code",
   "execution_count": 142,
   "id": "2ffe2d38",
   "metadata": {},
   "outputs": [],
   "source": [
    "d15.clear()"
   ]
  },
  {
   "cell_type": "code",
   "execution_count": 143,
   "id": "923bb659",
   "metadata": {},
   "outputs": [
    {
     "data": {
      "text/plain": [
       "{}"
      ]
     },
     "execution_count": 143,
     "metadata": {},
     "output_type": "execute_result"
    }
   ],
   "source": [
    "d15"
   ]
  },
  {
   "cell_type": "code",
   "execution_count": 144,
   "id": "628a86d4",
   "metadata": {},
   "outputs": [],
   "source": [
    "del d15"
   ]
  },
  {
   "cell_type": "markdown",
   "id": "d20a5389",
   "metadata": {},
   "source": [
    "d15   \n",
    "#since deleted"
   ]
  },
  {
   "cell_type": "code",
   "execution_count": 145,
   "id": "946bc0e1",
   "metadata": {},
   "outputs": [
    {
     "data": {
      "text/plain": [
       "5"
      ]
     },
     "execution_count": 145,
     "metadata": {},
     "output_type": "execute_result"
    }
   ],
   "source": [
    "len(d14)"
   ]
  },
  {
   "cell_type": "code",
   "execution_count": 146,
   "id": "087b6e4f",
   "metadata": {},
   "outputs": [
    {
     "data": {
      "text/plain": [
       "dict_keys(['course', 'st date', 'mentors', 'timing', 'name'])"
      ]
     },
     "execution_count": 146,
     "metadata": {},
     "output_type": "execute_result"
    }
   ],
   "source": [
    "d14.keys()"
   ]
  },
  {
   "cell_type": "code",
   "execution_count": 147,
   "id": "a303f640",
   "metadata": {},
   "outputs": [
    {
     "data": {
      "text/plain": [
       "dict_values([['DS', 'FS', 'AI', 'ML'], (28, 5, 24), ['ram', 'raj', 'sam'], (8, 6, 24), 'Ramesh'])"
      ]
     },
     "execution_count": 147,
     "metadata": {},
     "output_type": "execute_result"
    }
   ],
   "source": [
    "d14.values()"
   ]
  },
  {
   "cell_type": "code",
   "execution_count": 148,
   "id": "b92bc1f7",
   "metadata": {},
   "outputs": [
    {
     "data": {
      "text/plain": [
       "[['DS', 'FS', 'AI', 'ML'],\n",
       " (28, 5, 24),\n",
       " ['ram', 'raj', 'sam'],\n",
       " (8, 6, 24),\n",
       " 'Ramesh']"
      ]
     },
     "execution_count": 148,
     "metadata": {},
     "output_type": "execute_result"
    }
   ],
   "source": [
    "list(d14.values())"
   ]
  },
  {
   "cell_type": "code",
   "execution_count": 149,
   "id": "6c59643f",
   "metadata": {},
   "outputs": [
    {
     "data": {
      "text/plain": [
       "['course', 'st date', 'mentors', 'timing', 'name']"
      ]
     },
     "execution_count": 149,
     "metadata": {},
     "output_type": "execute_result"
    }
   ],
   "source": [
    "list(d14.keys())"
   ]
  },
  {
   "cell_type": "code",
   "execution_count": 150,
   "id": "6b96b02c",
   "metadata": {},
   "outputs": [
    {
     "data": {
      "text/plain": [
       "dict_items([('course', ['DS', 'FS', 'AI', 'ML']), ('st date', (28, 5, 24)), ('mentors', ['ram', 'raj', 'sam']), ('timing', (8, 6, 24)), ('name', 'Ramesh')])"
      ]
     },
     "execution_count": 150,
     "metadata": {},
     "output_type": "execute_result"
    }
   ],
   "source": [
    "d14.items()"
   ]
  },
  {
   "cell_type": "code",
   "execution_count": 151,
   "id": "a99cd487",
   "metadata": {
    "scrolled": false
   },
   "outputs": [
    {
     "data": {
      "text/plain": [
       "[('course', ['DS', 'FS', 'AI', 'ML']),\n",
       " ('st date', (28, 5, 24)),\n",
       " ('mentors', ['ram', 'raj', 'sam']),\n",
       " ('timing', (8, 6, 24)),\n",
       " ('name', 'Ramesh')]"
      ]
     },
     "execution_count": 151,
     "metadata": {},
     "output_type": "execute_result"
    }
   ],
   "source": [
    "list(d14.items())"
   ]
  },
  {
   "cell_type": "code",
   "execution_count": 152,
   "id": "a1664450",
   "metadata": {
    "scrolled": true
   },
   "outputs": [
    {
     "data": {
      "text/plain": [
       "{'course': ['DS', 'FS', 'AI', 'ML'],\n",
       " 'st date': (28, 5, 24),\n",
       " 'mentors': ['ram', 'raj', 'sam'],\n",
       " 'timing': (8, 6, 24),\n",
       " 'name': 'Ramesh'}"
      ]
     },
     "execution_count": 152,
     "metadata": {},
     "output_type": "execute_result"
    }
   ],
   "source": [
    "d16=d14.copy()  #Deep copy, d16-changes does not effect the d14\n",
    "d16"
   ]
  },
  {
   "cell_type": "code",
   "execution_count": 153,
   "id": "26dc4714",
   "metadata": {},
   "outputs": [
    {
     "data": {
      "text/plain": [
       "{'course': ['DS', 'FS', 'AI', 'ML'],\n",
       " 'st date': (28, 5, 24),\n",
       " 'mentors': ['ram', 'raj', 'sam'],\n",
       " 'timing': (8, 6, 24),\n",
       " 'name': 'Ramesh'}"
      ]
     },
     "execution_count": 153,
     "metadata": {},
     "output_type": "execute_result"
    }
   ],
   "source": [
    "d17=d14    #shallow copy, d17 changes will effect as d17 acts as a reference\n",
    "d17"
   ]
  },
  {
   "cell_type": "code",
   "execution_count": 154,
   "id": "e6e8328c",
   "metadata": {},
   "outputs": [
    {
     "data": {
      "text/plain": [
       "{1: ('a', 'b', 'c'), 2: ('a', 'b', 'c'), 3: ('a', 'b', 'c')}"
      ]
     },
     "execution_count": 154,
     "metadata": {},
     "output_type": "execute_result"
    }
   ],
   "source": [
    "d17.fromkeys((1,2,3),(\"a\",\"b\",\"c\"))"
   ]
  },
  {
   "cell_type": "code",
   "execution_count": 155,
   "id": "f01730fb",
   "metadata": {},
   "outputs": [],
   "source": [
    "d18={'key1':'value1','key2':'value2'}\n",
    "d19={'key3':'value3','key4':'value4'}"
   ]
  },
  {
   "cell_type": "code",
   "execution_count": 156,
   "id": "de7be019",
   "metadata": {},
   "outputs": [
    {
     "data": {
      "text/plain": [
       "({'key1': 'value1', 'key2': 'value2'}, {'key3': 'value3', 'key4': 'value4'})"
      ]
     },
     "execution_count": 156,
     "metadata": {},
     "output_type": "execute_result"
    }
   ],
   "source": [
    "(d18,d19)"
   ]
  },
  {
   "cell_type": "code",
   "execution_count": 157,
   "id": "3f165e07",
   "metadata": {},
   "outputs": [
    {
     "data": {
      "text/plain": [
       "{'key1': 'value1', 'key2': 'value2', 'key3': 'value3', 'key4': 'value4'}"
      ]
     },
     "execution_count": 157,
     "metadata": {},
     "output_type": "execute_result"
    }
   ],
   "source": [
    "d18.update(d19)\n",
    "d18"
   ]
  },
  {
   "cell_type": "code",
   "execution_count": 158,
   "id": "2ce9fb8f",
   "metadata": {},
   "outputs": [
    {
     "data": {
      "text/plain": [
       "{'key3': 'value3', 'key4': 'value4'}"
      ]
     },
     "execution_count": 158,
     "metadata": {},
     "output_type": "execute_result"
    }
   ],
   "source": [
    "d19"
   ]
  },
  {
   "cell_type": "code",
   "execution_count": 159,
   "id": "09eab967",
   "metadata": {},
   "outputs": [
    {
     "name": "stdout",
     "output_type": "stream",
     "text": [
      "value1\n",
      "value1\n"
     ]
    }
   ],
   "source": [
    "print(d18.get('key1'))    #get fn. does not return any error\n",
    "#or\n",
    "print(d18['key1'])"
   ]
  },
  {
   "cell_type": "markdown",
   "id": "a30bd480",
   "metadata": {},
   "source": [
    "Dictionary Comprehension"
   ]
  },
  {
   "cell_type": "markdown",
   "id": "b655f29c",
   "metadata": {},
   "source": [
    "List Comprehension: [expression for item in iterable if condition]\n",
    "\n",
    "Tuple Comprehension: tuple(expression for item in iterable if condition)\n",
    "\n",
    "Dictionary Comprehension: {key_expression: value_expression for item in iterable if condition}"
   ]
  },
  {
   "cell_type": "code",
   "execution_count": 160,
   "id": "5f2e0f01",
   "metadata": {},
   "outputs": [
    {
     "data": {
      "text/plain": [
       "[1, 2, 3, 4, 5, 6, 7, 8, 9, 10]"
      ]
     },
     "execution_count": 160,
     "metadata": {},
     "output_type": "execute_result"
    }
   ],
   "source": [
    "list(range(1,11))"
   ]
  },
  {
   "cell_type": "code",
   "execution_count": 161,
   "id": "944b8c13",
   "metadata": {},
   "outputs": [
    {
     "data": {
      "text/plain": [
       "{1: 1, 2: 4, 3: 9, 4: 16, 5: 25, 6: 36, 7: 49, 8: 64, 9: 81, 10: 100}"
      ]
     },
     "execution_count": 161,
     "metadata": {},
     "output_type": "execute_result"
    }
   ],
   "source": [
    "{i:i**2for i in range(1,11)}"
   ]
  },
  {
   "cell_type": "code",
   "execution_count": 162,
   "id": "f35e78cf",
   "metadata": {},
   "outputs": [
    {
     "data": {
      "text/plain": [
       "{1: 0.0,\n",
       " 2: 0.6931471805599453,\n",
       " 3: 1.0986122886681098,\n",
       " 4: 1.3862943611198906,\n",
       " 5: 1.6094379124341003,\n",
       " 6: 1.791759469228055,\n",
       " 7: 1.9459101490553132,\n",
       " 8: 2.0794415416798357,\n",
       " 9: 2.1972245773362196}"
      ]
     },
     "execution_count": 162,
     "metadata": {},
     "output_type": "execute_result"
    }
   ],
   "source": [
    "import math\n",
    "d20={i: math.log(i) for i in range(1,10)}\n",
    "d20"
   ]
  },
  {
   "cell_type": "code",
   "execution_count": 163,
   "id": "1c5bbe4a",
   "metadata": {},
   "outputs": [
    {
     "data": {
      "text/plain": [
       "True"
      ]
     },
     "execution_count": 163,
     "metadata": {},
     "output_type": "execute_result"
    }
   ],
   "source": [
    "1 in d20  #checking the key is present in the dictionary"
   ]
  },
  {
   "cell_type": "code",
   "execution_count": 164,
   "id": "f4a55c9d",
   "metadata": {},
   "outputs": [
    {
     "data": {
      "text/plain": [
       "dict_keys([1, 2, 3, 4, 5, 6, 7, 8, 9])"
      ]
     },
     "execution_count": 164,
     "metadata": {},
     "output_type": "execute_result"
    }
   ],
   "source": [
    "d20.keys()"
   ]
  },
  {
   "cell_type": "code",
   "execution_count": 165,
   "id": "be332dbb",
   "metadata": {},
   "outputs": [
    {
     "name": "stdout",
     "output_type": "stream",
     "text": [
      "2\n",
      "4\n",
      "6\n",
      "8\n"
     ]
    }
   ],
   "source": [
    "for i in d20.keys():\n",
    "    if i%2==0:\n",
    "        print(i)"
   ]
  },
  {
   "cell_type": "code",
   "execution_count": 166,
   "id": "984f2e1f",
   "metadata": {},
   "outputs": [
    {
     "name": "stdout",
     "output_type": "stream",
     "text": [
      "2 : 0.6931471805599453\n",
      "4 : 1.3862943611198906\n",
      "6 : 1.791759469228055\n",
      "8 : 2.0794415416798357\n"
     ]
    }
   ],
   "source": [
    "for i in d20.keys():\n",
    "    if i%2==0:\n",
    "        print(i,\":\",d20[i])"
   ]
  },
  {
   "cell_type": "markdown",
   "id": "93c50a90",
   "metadata": {},
   "source": [
    "# Strings"
   ]
  },
  {
   "cell_type": "code",
   "execution_count": 167,
   "id": "5cdd9f1c",
   "metadata": {},
   "outputs": [
    {
     "data": {
      "text/plain": [
       "7"
      ]
     },
     "execution_count": 167,
     "metadata": {},
     "output_type": "execute_result"
    }
   ],
   "source": [
    "30 >> 2"
   ]
  },
  {
   "cell_type": "code",
   "execution_count": 168,
   "id": "c42489c2",
   "metadata": {},
   "outputs": [
    {
     "data": {
      "text/plain": [
       "'0b11110'"
      ]
     },
     "execution_count": 168,
     "metadata": {},
     "output_type": "execute_result"
    }
   ],
   "source": [
    "bin(30)     #111'10'(since 2 places should be shifted)"
   ]
  },
  {
   "cell_type": "code",
   "execution_count": 169,
   "id": "ab361f22",
   "metadata": {},
   "outputs": [
    {
     "data": {
      "text/plain": [
       "'0b10'"
      ]
     },
     "execution_count": 169,
     "metadata": {},
     "output_type": "execute_result"
    }
   ],
   "source": [
    "bin(2)"
   ]
  },
  {
   "cell_type": "code",
   "execution_count": 170,
   "id": "30ae8e48",
   "metadata": {},
   "outputs": [
    {
     "data": {
      "text/plain": [
       "'0b111'"
      ]
     },
     "execution_count": 170,
     "metadata": {},
     "output_type": "execute_result"
    }
   ],
   "source": [
    "bin(7)"
   ]
  },
  {
   "cell_type": "code",
   "execution_count": 171,
   "id": "c1ddfb93",
   "metadata": {
    "scrolled": true
   },
   "outputs": [
    {
     "data": {
      "text/plain": [
       "0"
      ]
     },
     "execution_count": 171,
     "metadata": {},
     "output_type": "execute_result"
    }
   ],
   "source": [
    "0*0"
   ]
  },
  {
   "cell_type": "code",
   "execution_count": 172,
   "id": "5f0d1a07",
   "metadata": {},
   "outputs": [
    {
     "data": {
      "text/plain": [
       "0"
      ]
     },
     "execution_count": 172,
     "metadata": {},
     "output_type": "execute_result"
    }
   ],
   "source": [
    "(not(True)) * False"
   ]
  },
  {
   "cell_type": "code",
   "execution_count": 173,
   "id": "d65a4fb9",
   "metadata": {},
   "outputs": [
    {
     "data": {
      "text/plain": [
       "0"
      ]
     },
     "execution_count": 173,
     "metadata": {},
     "output_type": "execute_result"
    }
   ],
   "source": [
    "True * False"
   ]
  },
  {
   "cell_type": "code",
   "execution_count": 174,
   "id": "d7778267",
   "metadata": {},
   "outputs": [],
   "source": [
    "string=\"My DataScience Skills\""
   ]
  },
  {
   "cell_type": "code",
   "execution_count": 175,
   "id": "f30cbfde",
   "metadata": {},
   "outputs": [
    {
     "data": {
      "text/plain": [
       "-1"
      ]
     },
     "execution_count": 175,
     "metadata": {},
     "output_type": "execute_result"
    }
   ],
   "source": [
    "string.find(\"z\")   #substring is not found"
   ]
  },
  {
   "cell_type": "code",
   "execution_count": 176,
   "id": "fadf3211",
   "metadata": {},
   "outputs": [
    {
     "data": {
      "text/plain": [
       "'sllikS ecneicSataD yM'"
      ]
     },
     "execution_count": 176,
     "metadata": {},
     "output_type": "execute_result"
    }
   ],
   "source": [
    "string[::-1]"
   ]
  },
  {
   "cell_type": "code",
   "execution_count": 177,
   "id": "c707725c",
   "metadata": {},
   "outputs": [
    {
     "data": {
      "text/plain": [
       "'My DataScience Skills'"
      ]
     },
     "execution_count": 177,
     "metadata": {},
     "output_type": "execute_result"
    }
   ],
   "source": [
    "string"
   ]
  },
  {
   "cell_type": "code",
   "execution_count": 178,
   "id": "ba6b0b89",
   "metadata": {},
   "outputs": [
    {
     "data": {
      "text/plain": [
       "21"
      ]
     },
     "execution_count": 178,
     "metadata": {},
     "output_type": "execute_result"
    }
   ],
   "source": [
    "len(string)"
   ]
  },
  {
   "cell_type": "code",
   "execution_count": 179,
   "id": "dac0a1f2",
   "metadata": {},
   "outputs": [
    {
     "data": {
      "text/plain": [
       "'My Datascience Skills'"
      ]
     },
     "execution_count": 179,
     "metadata": {},
     "output_type": "execute_result"
    }
   ],
   "source": [
    "string.title()"
   ]
  },
  {
   "cell_type": "code",
   "execution_count": 180,
   "id": "a93b21cb",
   "metadata": {},
   "outputs": [
    {
     "data": {
      "text/plain": [
       "3"
      ]
     },
     "execution_count": 180,
     "metadata": {},
     "output_type": "execute_result"
    }
   ],
   "source": [
    "string.find('D',1,10)"
   ]
  },
  {
   "cell_type": "code",
   "execution_count": 181,
   "id": "db4a0a18",
   "metadata": {},
   "outputs": [
    {
     "data": {
      "text/plain": [
       "2"
      ]
     },
     "execution_count": 181,
     "metadata": {},
     "output_type": "execute_result"
    }
   ],
   "source": [
    "string.count('S')"
   ]
  },
  {
   "cell_type": "code",
   "execution_count": 182,
   "id": "5971fd84",
   "metadata": {},
   "outputs": [
    {
     "data": {
      "text/plain": [
       "22"
      ]
     },
     "execution_count": 182,
     "metadata": {},
     "output_type": "execute_result"
    }
   ],
   "source": [
    "string.count('')   #counts every string"
   ]
  },
  {
   "cell_type": "code",
   "execution_count": 183,
   "id": "39a0752a",
   "metadata": {},
   "outputs": [
    {
     "data": {
      "text/plain": [
       "2"
      ]
     },
     "execution_count": 183,
     "metadata": {},
     "output_type": "execute_result"
    }
   ],
   "source": [
    "string.count(' ')"
   ]
  },
  {
   "cell_type": "code",
   "execution_count": 184,
   "id": "7298a1f1",
   "metadata": {},
   "outputs": [
    {
     "data": {
      "text/plain": [
       "['My', 'DataScience', 'Skills']"
      ]
     },
     "execution_count": 184,
     "metadata": {},
     "output_type": "execute_result"
    }
   ],
   "source": [
    "string.split(' ')"
   ]
  },
  {
   "cell_type": "code",
   "execution_count": 185,
   "id": "a0c7e33e",
   "metadata": {},
   "outputs": [
    {
     "data": {
      "text/plain": [
       "6"
      ]
     },
     "execution_count": 185,
     "metadata": {},
     "output_type": "execute_result"
    }
   ],
   "source": [
    "name='Rahul'\n",
    "name.count('')  #it takes an empty string"
   ]
  },
  {
   "cell_type": "code",
   "execution_count": 186,
   "id": "427b615a",
   "metadata": {},
   "outputs": [
    {
     "data": {
      "text/plain": [
       "('My Data', 'S', 'cience Skills')"
      ]
     },
     "execution_count": 186,
     "metadata": {},
     "output_type": "execute_result"
    }
   ],
   "source": [
    "string.partition('S')"
   ]
  },
  {
   "cell_type": "code",
   "execution_count": 187,
   "id": "80def2b9",
   "metadata": {},
   "outputs": [
    {
     "data": {
      "text/plain": [
       "'mY dATAsCIENCE sKILLS'"
      ]
     },
     "execution_count": 187,
     "metadata": {},
     "output_type": "execute_result"
    }
   ],
   "source": [
    "string.swapcase()"
   ]
  },
  {
   "cell_type": "code",
   "execution_count": 188,
   "id": "c1cb1bcf",
   "metadata": {},
   "outputs": [
    {
     "data": {
      "text/plain": [
       "'sllikS ecneicSataD yM'"
      ]
     },
     "execution_count": 188,
     "metadata": {},
     "output_type": "execute_result"
    }
   ],
   "source": [
    "string[::-1]"
   ]
  },
  {
   "cell_type": "code",
   "execution_count": 189,
   "id": "567c1f7e",
   "metadata": {},
   "outputs": [
    {
     "data": {
      "text/plain": [
       "'sllikS ecneicSataD yM'"
      ]
     },
     "execution_count": 189,
     "metadata": {},
     "output_type": "execute_result"
    }
   ],
   "source": [
    "''.join(reversed(string))"
   ]
  },
  {
   "cell_type": "code",
   "execution_count": 190,
   "id": "8a415178",
   "metadata": {},
   "outputs": [
    {
     "data": {
      "text/plain": [
       "'a b c d'"
      ]
     },
     "execution_count": 190,
     "metadata": {},
     "output_type": "execute_result"
    }
   ],
   "source": [
    "\" \".join('abcd')"
   ]
  },
  {
   "cell_type": "code",
   "execution_count": 191,
   "id": "d2243596",
   "metadata": {},
   "outputs": [
    {
     "data": {
      "text/plain": [
       "['s',\n",
       " 'l',\n",
       " 'l',\n",
       " 'i',\n",
       " 'k',\n",
       " 'S',\n",
       " ' ',\n",
       " 'e',\n",
       " 'c',\n",
       " 'n',\n",
       " 'e',\n",
       " 'i',\n",
       " 'c',\n",
       " 'S',\n",
       " 'a',\n",
       " 't',\n",
       " 'a',\n",
       " 'D',\n",
       " ' ',\n",
       " 'y',\n",
       " 'M']"
      ]
     },
     "execution_count": 191,
     "metadata": {},
     "output_type": "execute_result"
    }
   ],
   "source": [
    "list(reversed(string))"
   ]
  },
  {
   "cell_type": "code",
   "execution_count": 192,
   "id": "289b530b",
   "metadata": {},
   "outputs": [
    {
     "name": "stdout",
     "output_type": "stream",
     "text": [
      "sllikS ecneicSataD yM"
     ]
    }
   ],
   "source": [
    "for i in reversed(string):\n",
    "    print(i, end='')"
   ]
  },
  {
   "cell_type": "code",
   "execution_count": 193,
   "id": "b8410717",
   "metadata": {},
   "outputs": [
    {
     "data": {
      "text/plain": [
       "'west side'"
      ]
     },
     "execution_count": 193,
     "metadata": {},
     "output_type": "execute_result"
    }
   ],
   "source": [
    "string1='  west side  '\n",
    "string1.strip()"
   ]
  },
  {
   "cell_type": "code",
   "execution_count": 194,
   "id": "38867682",
   "metadata": {},
   "outputs": [
    {
     "data": {
      "text/plain": [
       "'  west side'"
      ]
     },
     "execution_count": 194,
     "metadata": {},
     "output_type": "execute_result"
    }
   ],
   "source": [
    "string1='  west side  '\n",
    "string1.rstrip()"
   ]
  },
  {
   "cell_type": "code",
   "execution_count": 195,
   "id": "be2b908a",
   "metadata": {},
   "outputs": [
    {
     "data": {
      "text/plain": [
       "'  west direction  '"
      ]
     },
     "execution_count": 195,
     "metadata": {},
     "output_type": "execute_result"
    }
   ],
   "source": [
    "string1.replace('side','direction')"
   ]
  },
  {
   "cell_type": "code",
   "execution_count": 196,
   "id": "00c4bd67",
   "metadata": {},
   "outputs": [
    {
     "name": "stdout",
     "output_type": "stream",
     "text": [
      "rahul@routhu@gmail.com\n",
      "rahul routhu gmail.com\n"
     ]
    }
   ],
   "source": [
    "mail='rahul@routhu@gmail.com'\n",
    "mr=mail.replace(\"@\",\" \")\n",
    "\n",
    "print(mail)\n",
    "print(mr)"
   ]
  },
  {
   "cell_type": "code",
   "execution_count": 197,
   "id": "4d993209",
   "metadata": {},
   "outputs": [
    {
     "data": {
      "text/plain": [
       "'rahul routhu gmail.com'"
      ]
     },
     "execution_count": 197,
     "metadata": {},
     "output_type": "execute_result"
    }
   ],
   "source": [
    "mr"
   ]
  },
  {
   "cell_type": "code",
   "execution_count": 198,
   "id": "cfa60ec4",
   "metadata": {},
   "outputs": [
    {
     "data": {
      "text/plain": [
       "'My DataScience Skills'"
      ]
     },
     "execution_count": 198,
     "metadata": {},
     "output_type": "execute_result"
    }
   ],
   "source": [
    "string.expandtabs()"
   ]
  },
  {
   "cell_type": "code",
   "execution_count": 199,
   "id": "e84205b0",
   "metadata": {},
   "outputs": [
    {
     "name": "stdout",
     "output_type": "stream",
     "text": [
      "String contains only whitespace characters.\n",
      "String contains non-whitespace characters.\n"
     ]
    }
   ],
   "source": [
    "def check_whitespace(s):\n",
    "    if s.isspace():\n",
    "        return \"String contains only whitespace characters.\"\n",
    "    else:\n",
    "        return \"String contains non-whitespace characters.\"\n",
    "\n",
    "print(check_whitespace(\" \"))  # Output: String contains only whitespace characters.\n",
    "print(check_whitespace(\" Hello World \"))  # Output: String contains non-whitespace characters."
   ]
  },
  {
   "cell_type": "code",
   "execution_count": 200,
   "id": "1627b601",
   "metadata": {
    "scrolled": false
   },
   "outputs": [
    {
     "name": "stdout",
     "output_type": "stream",
     "text": [
      " \n",
      " \n",
      "w\n",
      "e\n",
      "s\n",
      "t\n",
      " \n",
      "s\n",
      "i\n",
      "d\n",
      "e\n",
      " \n",
      " \n"
     ]
    }
   ],
   "source": [
    "for i in range(len(string1)):\n",
    "    print(string1[i])"
   ]
  },
  {
   "cell_type": "code",
   "execution_count": 201,
   "id": "b4ae370a",
   "metadata": {},
   "outputs": [
    {
     "name": "stdout",
     "output_type": "stream",
     "text": [
      "moc.liamg@uhtuor@luhar"
     ]
    }
   ],
   "source": [
    "for i in range(len(mail)-1,-1,-1):\n",
    "    print(mail[i],end='')"
   ]
  },
  {
   "cell_type": "code",
   "execution_count": 202,
   "id": "ff363b81",
   "metadata": {},
   "outputs": [
    {
     "data": {
      "text/plain": [
       "23"
      ]
     },
     "execution_count": 202,
     "metadata": {},
     "output_type": "execute_result"
    }
   ],
   "source": [
    "mail.count(\"\")"
   ]
  },
  {
   "cell_type": "code",
   "execution_count": 203,
   "id": "9f7225df",
   "metadata": {},
   "outputs": [],
   "source": [
    "l=len(mail)-1 "
   ]
  },
  {
   "cell_type": "code",
   "execution_count": 204,
   "id": "2b00e450",
   "metadata": {},
   "outputs": [
    {
     "data": {
      "text/plain": [
       "21"
      ]
     },
     "execution_count": 204,
     "metadata": {},
     "output_type": "execute_result"
    }
   ],
   "source": [
    "l"
   ]
  },
  {
   "cell_type": "code",
   "execution_count": 205,
   "id": "2223baa2",
   "metadata": {},
   "outputs": [
    {
     "data": {
      "text/plain": [
       "('m', 'o')"
      ]
     },
     "execution_count": 205,
     "metadata": {},
     "output_type": "execute_result"
    }
   ],
   "source": [
    "mail[21],mail[20]"
   ]
  },
  {
   "cell_type": "code",
   "execution_count": 206,
   "id": "7beffe49",
   "metadata": {},
   "outputs": [
    {
     "name": "stdout",
     "output_type": "stream",
     "text": [
      "moc.liamg@uhtuor@luha"
     ]
    }
   ],
   "source": [
    "while l>0:\n",
    "    print(mail[l], end='')\n",
    "    l=l-1 "
   ]
  },
  {
   "cell_type": "code",
   "execution_count": 207,
   "id": "c5de9332",
   "metadata": {},
   "outputs": [
    {
     "name": "stdout",
     "output_type": "stream",
     "text": [
      "moc.liamg@uhtuor@luhar"
     ]
    }
   ],
   "source": [
    "for i in range(len(mail)):\n",
    "    print(mail[len(mail)-(i+1)], end='')"
   ]
  },
  {
   "cell_type": "code",
   "execution_count": 208,
   "id": "ba20025d",
   "metadata": {},
   "outputs": [],
   "source": [
    "para='covolcanoconiosis'\n",
    "vowels='AaEeIiOoUu'"
   ]
  },
  {
   "cell_type": "code",
   "execution_count": 209,
   "id": "28040e4e",
   "metadata": {},
   "outputs": [
    {
     "name": "stdout",
     "output_type": "stream",
     "text": [
      "The c is not vowel\n",
      "The o is a vowel\n",
      "The v is not vowel\n",
      "The o is a vowel\n",
      "The l is not vowel\n",
      "The c is not vowel\n",
      "The a is a vowel\n",
      "The n is not vowel\n",
      "The o is a vowel\n",
      "The c is not vowel\n",
      "The o is a vowel\n",
      "The n is not vowel\n",
      "The i is a vowel\n",
      "The o is a vowel\n",
      "The s is not vowel\n",
      "The i is a vowel\n",
      "The s is not vowel\n"
     ]
    }
   ],
   "source": [
    "for i in para:\n",
    "    if i in vowels:\n",
    "        print(\"The {} is a vowel\".format(i))\n",
    "    else:\n",
    "        print(\"The {} is not vowel\".format(i))"
   ]
  },
  {
   "cell_type": "markdown",
   "id": "4ecfaa44",
   "metadata": {},
   "source": [
    "# Functions"
   ]
  },
  {
   "cell_type": "code",
   "execution_count": 210,
   "id": "7fc06e58",
   "metadata": {},
   "outputs": [
    {
     "name": "stdout",
     "output_type": "stream",
     "text": [
      "This is a program\n"
     ]
    }
   ],
   "source": [
    "print(\"This is a program\")"
   ]
  },
  {
   "cell_type": "code",
   "execution_count": 211,
   "id": "41677bda",
   "metadata": {},
   "outputs": [
    {
     "data": {
      "text/plain": [
       "6"
      ]
     },
     "execution_count": 211,
     "metadata": {},
     "output_type": "execute_result"
    }
   ],
   "source": [
    "len('string')"
   ]
  },
  {
   "cell_type": "code",
   "execution_count": 212,
   "id": "63886aa7",
   "metadata": {},
   "outputs": [],
   "source": [
    "a='String'"
   ]
  },
  {
   "cell_type": "code",
   "execution_count": 213,
   "id": "e65e2ec1",
   "metadata": {},
   "outputs": [
    {
     "data": {
      "text/plain": [
       "7"
      ]
     },
     "execution_count": 213,
     "metadata": {},
     "output_type": "execute_result"
    }
   ],
   "source": [
    "a.count('')"
   ]
  },
  {
   "cell_type": "code",
   "execution_count": 214,
   "id": "be1a4f73",
   "metadata": {},
   "outputs": [
    {
     "name": "stdout",
     "output_type": "stream",
     "text": [
      "This is a Function\n"
     ]
    }
   ],
   "source": [
    "def test():\n",
    "    print(\"This is a Function\")  \n",
    "    \n",
    "test()"
   ]
  },
  {
   "cell_type": "raw",
   "id": "5ccf3c3c",
   "metadata": {},
   "source": [
    "test()+'type'    #print fn returns a none-type"
   ]
  },
  {
   "cell_type": "code",
   "execution_count": 215,
   "id": "11fd3220",
   "metadata": {},
   "outputs": [
    {
     "data": {
      "text/plain": [
       "'This is a fn in return'"
      ]
     },
     "execution_count": 215,
     "metadata": {},
     "output_type": "execute_result"
    }
   ],
   "source": [
    "def test1():\n",
    "    return \"This is a fn in return\"\n",
    "\n",
    "test1()"
   ]
  },
  {
   "cell_type": "code",
   "execution_count": 216,
   "id": "778ab941",
   "metadata": {},
   "outputs": [
    {
     "data": {
      "text/plain": [
       "'This is a fn in returnfunction'"
      ]
     },
     "execution_count": 216,
     "metadata": {},
     "output_type": "execute_result"
    }
   ],
   "source": [
    "test1() + \"function\"     #returns a type "
   ]
  },
  {
   "cell_type": "code",
   "execution_count": 217,
   "id": "f14b941a",
   "metadata": {},
   "outputs": [
    {
     "data": {
      "text/plain": [
       "(1, 2, 3, 'question', 'answer')"
      ]
     },
     "execution_count": 217,
     "metadata": {},
     "output_type": "execute_result"
    }
   ],
   "source": [
    "def test2():\n",
    "    return 1,2,3,'question','answer'\n",
    "\n",
    "test2()"
   ]
  },
  {
   "cell_type": "code",
   "execution_count": 218,
   "id": "10c3197a",
   "metadata": {},
   "outputs": [
    {
     "name": "stdout",
     "output_type": "stream",
     "text": [
      "1\n",
      "2\n",
      "3\n",
      "question\n",
      "answer\n"
     ]
    }
   ],
   "source": [
    "print(test2()[0])\n",
    "print(test2()[1])\n",
    "print(test2()[2])\n",
    "print(test2()[3])\n",
    "print(test2()[4])"
   ]
  },
  {
   "cell_type": "code",
   "execution_count": 219,
   "id": "1f866fe1",
   "metadata": {},
   "outputs": [
    {
     "name": "stdout",
     "output_type": "stream",
     "text": [
      "1 : <class 'int'>\n",
      "2 : <class 'int'>\n",
      "3 : <class 'int'>\n",
      "question : <class 'str'>\n",
      "answer : <class 'str'>\n"
     ]
    }
   ],
   "source": [
    "for i in test2():\n",
    "    print(i,':',type(i))"
   ]
  },
  {
   "cell_type": "code",
   "execution_count": 220,
   "id": "cf0b3bce",
   "metadata": {},
   "outputs": [],
   "source": [
    "a,b,c,d,e=test2()"
   ]
  },
  {
   "cell_type": "code",
   "execution_count": 221,
   "id": "ee1d2bf4",
   "metadata": {},
   "outputs": [
    {
     "data": {
      "text/plain": [
       "(1, 2, 3, 'question', 'answer')"
      ]
     },
     "execution_count": 221,
     "metadata": {},
     "output_type": "execute_result"
    }
   ],
   "source": [
    "a,b,c,d,e"
   ]
  },
  {
   "cell_type": "code",
   "execution_count": 222,
   "id": "29e1777b",
   "metadata": {},
   "outputs": [
    {
     "data": {
      "text/plain": [
       "482"
      ]
     },
     "execution_count": 222,
     "metadata": {},
     "output_type": "execute_result"
    }
   ],
   "source": [
    "def test3():\n",
    "    a=8*56+34\n",
    "    return a\n",
    "\n",
    "test3()"
   ]
  },
  {
   "cell_type": "code",
   "execution_count": 223,
   "id": "af5df0eb",
   "metadata": {},
   "outputs": [
    {
     "data": {
      "text/plain": [
       "int"
      ]
     },
     "execution_count": 223,
     "metadata": {},
     "output_type": "execute_result"
    }
   ],
   "source": [
    "type(a)"
   ]
  },
  {
   "cell_type": "code",
   "execution_count": 224,
   "id": "653993f4",
   "metadata": {},
   "outputs": [
    {
     "data": {
      "text/plain": [
       "int"
      ]
     },
     "execution_count": 224,
     "metadata": {},
     "output_type": "execute_result"
    }
   ],
   "source": [
    "type(test3())"
   ]
  },
  {
   "cell_type": "code",
   "execution_count": 225,
   "id": "b21695fe",
   "metadata": {},
   "outputs": [],
   "source": [
    "def test4(a,b):\n",
    "    c=a+b\n",
    "    return c"
   ]
  },
  {
   "cell_type": "code",
   "execution_count": 226,
   "id": "0fb7b92f",
   "metadata": {},
   "outputs": [
    {
     "data": {
      "text/plain": [
       "7"
      ]
     },
     "execution_count": 226,
     "metadata": {},
     "output_type": "execute_result"
    }
   ],
   "source": [
    "test4(3,4)"
   ]
  },
  {
   "cell_type": "code",
   "execution_count": 227,
   "id": "763d71b1",
   "metadata": {},
   "outputs": [
    {
     "data": {
      "text/plain": [
       "'rahul_routh30'"
      ]
     },
     "execution_count": 227,
     "metadata": {},
     "output_type": "execute_result"
    }
   ],
   "source": [
    "test4('rahul_','routh30')"
   ]
  },
  {
   "cell_type": "code",
   "execution_count": 228,
   "id": "aee1c5d4",
   "metadata": {},
   "outputs": [
    {
     "data": {
      "text/plain": [
       "[1, 2, 3, 4, 5, 6, 7, 8]"
      ]
     },
     "execution_count": 228,
     "metadata": {},
     "output_type": "execute_result"
    }
   ],
   "source": [
    "test4([1,2,3,4],[5,6,7,8])"
   ]
  },
  {
   "cell_type": "code",
   "execution_count": 229,
   "id": "fc175751",
   "metadata": {},
   "outputs": [
    {
     "data": {
      "text/plain": [
       "(1, 2, 3, 4, 5)"
      ]
     },
     "execution_count": 229,
     "metadata": {},
     "output_type": "execute_result"
    }
   ],
   "source": [
    "test4((1,2,3),(4,5))"
   ]
  },
  {
   "cell_type": "code",
   "execution_count": 230,
   "id": "d27eede0",
   "metadata": {},
   "outputs": [],
   "source": [
    "a=[1,7,'sam',4,\"ram\",55]"
   ]
  },
  {
   "cell_type": "code",
   "execution_count": 231,
   "id": "0fb789d0",
   "metadata": {},
   "outputs": [],
   "source": [
    "def test6(a):\n",
    "    for i in a:\n",
    "        if type(i)==int:\n",
    "            print(i,end=',')"
   ]
  },
  {
   "cell_type": "code",
   "execution_count": 232,
   "id": "33f49c27",
   "metadata": {
    "scrolled": true
   },
   "outputs": [
    {
     "name": "stdout",
     "output_type": "stream",
     "text": [
      "1,7,4,55,"
     ]
    }
   ],
   "source": [
    "test6(a)"
   ]
  },
  {
   "cell_type": "code",
   "execution_count": 233,
   "id": "c16dc8f1",
   "metadata": {},
   "outputs": [],
   "source": [
    "def test6(a):\n",
    "    n=[]\n",
    "    for i in a:\n",
    "        if type(i)==int or type(i)==float:\n",
    "            n.append(i)\n",
    "    return n"
   ]
  },
  {
   "cell_type": "code",
   "execution_count": 234,
   "id": "c1011dba",
   "metadata": {},
   "outputs": [
    {
     "data": {
      "text/plain": [
       "[1, 7, 4, 55]"
      ]
     },
     "execution_count": 234,
     "metadata": {},
     "output_type": "execute_result"
    }
   ],
   "source": [
    "test6(a)"
   ]
  },
  {
   "cell_type": "code",
   "execution_count": null,
   "id": "9e694c28",
   "metadata": {},
   "outputs": [],
   "source": []
  },
  {
   "cell_type": "code",
   "execution_count": 235,
   "id": "5149cdf8",
   "metadata": {},
   "outputs": [
    {
     "name": "stdout",
     "output_type": "stream",
     "text": [
      "I have a pet named Joy.\n"
     ]
    }
   ],
   "source": [
    "def describe_pet(animal, name):\n",
    "    print(f\"I have a {animal} named {name}.\")\n",
    "\n",
    "describe_pet(animal='pet',name='Joy') "
   ]
  },
  {
   "cell_type": "markdown",
   "id": "79ec2f41",
   "metadata": {},
   "source": [
    "# *args & **Kwargs"
   ]
  },
  {
   "cell_type": "raw",
   "id": "0a34fbae",
   "metadata": {},
   "source": [
    "*args=no of args we can pass wrt. to the position (*-represents n-number)\n",
    "**kwargs=no of args we can pass in the form of dict irrespective of position (**-n, key)\n",
    "Both *args & **kwargs can be with any name eg: *x, **y "
   ]
  },
  {
   "cell_type": "code",
   "execution_count": 236,
   "id": "8de62eef",
   "metadata": {},
   "outputs": [],
   "source": [
    "def test7(*args,**y):\n",
    "    return args,y"
   ]
  },
  {
   "cell_type": "code",
   "execution_count": 237,
   "id": "d64fb038",
   "metadata": {
    "scrolled": true
   },
   "outputs": [
    {
     "data": {
      "text/plain": [
       "((1, 2, 2, 3, 3, 4), {'y': 'name', 'z': 'age'})"
      ]
     },
     "execution_count": 237,
     "metadata": {},
     "output_type": "execute_result"
    }
   ],
   "source": [
    "test7(1,2,2,3,3,4,y='name',z='age')"
   ]
  },
  {
   "cell_type": "code",
   "execution_count": 238,
   "id": "ec3a0fcd",
   "metadata": {},
   "outputs": [],
   "source": [
    "def test8(*args):\n",
    "    return args"
   ]
  },
  {
   "cell_type": "code",
   "execution_count": 239,
   "id": "f6e12f33",
   "metadata": {},
   "outputs": [
    {
     "data": {
      "text/plain": [
       "(1, 2, 33, 4, 65, 9, 6, 4, 34)"
      ]
     },
     "execution_count": 239,
     "metadata": {},
     "output_type": "execute_result"
    }
   ],
   "source": [
    "test8(1,2,33,4,65,9,6,4,34)"
   ]
  },
  {
   "cell_type": "code",
   "execution_count": 240,
   "id": "fa754e78",
   "metadata": {},
   "outputs": [],
   "source": [
    "def test9(**kargs):\n",
    "    return kargs"
   ]
  },
  {
   "cell_type": "code",
   "execution_count": 241,
   "id": "effb688e",
   "metadata": {},
   "outputs": [
    {
     "data": {
      "text/plain": [
       "{'a': 'name', 'b': (7, 8, 9), 'c': [1, 2, 4], 'd': {1, 23}}"
      ]
     },
     "execution_count": 241,
     "metadata": {},
     "output_type": "execute_result"
    }
   ],
   "source": [
    "test9(a='name',b=(7,8,9),c=[1,2,4],d={1,23})"
   ]
  },
  {
   "cell_type": "code",
   "execution_count": 242,
   "id": "f90727cc",
   "metadata": {},
   "outputs": [],
   "source": [
    "def train(*args):\n",
    "    lists=[]\n",
    "    for i in args:\n",
    "        if type(i)==list:\n",
    "            lists.append(i)\n",
    "        \n",
    "    return lists"
   ]
  },
  {
   "cell_type": "code",
   "execution_count": 243,
   "id": "0209083b",
   "metadata": {
    "scrolled": true
   },
   "outputs": [
    {
     "data": {
      "text/plain": [
       "[[1, 2], [9, 5, 3, 2]]"
      ]
     },
     "execution_count": 243,
     "metadata": {},
     "output_type": "execute_result"
    }
   ],
   "source": [
    "train([1,2],3,4,5,6,'ram',[9,5,3,2])"
   ]
  },
  {
   "cell_type": "code",
   "execution_count": 244,
   "id": "84746353",
   "metadata": {},
   "outputs": [],
   "source": [
    "def train1(**kwargs):\n",
    "    for i in kwargs.keys():\n",
    "        if type(kwargs[i])==list:\n",
    "            return i, kwargs[i]"
   ]
  },
  {
   "cell_type": "code",
   "execution_count": 245,
   "id": "620f263e",
   "metadata": {},
   "outputs": [
    {
     "data": {
      "text/plain": [
       "('c', [1, 2, 3, 4])"
      ]
     },
     "execution_count": 245,
     "metadata": {},
     "output_type": "execute_result"
    }
   ],
   "source": [
    "train1(a=34,b=23,c=[1,2,3,4], d=('ram','sam'),e=[7,8,9])"
   ]
  },
  {
   "cell_type": "code",
   "execution_count": 246,
   "id": "8a5578e5",
   "metadata": {},
   "outputs": [],
   "source": [
    "def train1(**kwargs):\n",
    "    for i in kwargs.keys():\n",
    "        if type(kwargs[i])==list:\n",
    "            print(i, kwargs[i])"
   ]
  },
  {
   "cell_type": "code",
   "execution_count": 247,
   "id": "6ea00929",
   "metadata": {},
   "outputs": [
    {
     "name": "stdout",
     "output_type": "stream",
     "text": [
      "c [1, 2, 3, 4]\n",
      "e [7, 8, 9]\n"
     ]
    }
   ],
   "source": [
    "train1(a=34,b=23,c=[1,2,3,4], d=('ram','sam'),e=[7,8,9])"
   ]
  },
  {
   "cell_type": "code",
   "execution_count": 248,
   "id": "9a73427f",
   "metadata": {},
   "outputs": [],
   "source": [
    "def train2(*args, **kwargs):\n",
    "    return args, kwargs"
   ]
  },
  {
   "cell_type": "code",
   "execution_count": 249,
   "id": "ea9861e7",
   "metadata": {},
   "outputs": [
    {
     "data": {
      "text/plain": [
       "((1, 9, 'Cat'), {'a': 'Data', 'b': 'Science'})"
      ]
     },
     "execution_count": 249,
     "metadata": {},
     "output_type": "execute_result"
    }
   ],
   "source": [
    "train2(1,9,'Cat', a='Data',b='Science')"
   ]
  },
  {
   "cell_type": "markdown",
   "id": "d018b2d3",
   "metadata": {},
   "source": [
    "# Generators"
   ]
  },
  {
   "cell_type": "code",
   "execution_count": 250,
   "id": "d86b0c96",
   "metadata": {},
   "outputs": [],
   "source": [
    "l=[7,4,6,2,8,7,9,'dae','pat',5,0]"
   ]
  },
  {
   "cell_type": "code",
   "execution_count": 251,
   "id": "bf033476",
   "metadata": {},
   "outputs": [],
   "source": [
    "def gen(l):\n",
    "    n=[]\n",
    "    for i in l:\n",
    "        if type(i)==int:\n",
    "            n.append(i)\n",
    "    return n"
   ]
  },
  {
   "cell_type": "code",
   "execution_count": 252,
   "id": "3ece9f5d",
   "metadata": {
    "scrolled": true
   },
   "outputs": [
    {
     "data": {
      "text/plain": [
       "[7, 4, 6, 2, 8, 7, 9, 5, 0]"
      ]
     },
     "execution_count": 252,
     "metadata": {},
     "output_type": "execute_result"
    }
   ],
   "source": [
    "gen(l)"
   ]
  },
  {
   "cell_type": "code",
   "execution_count": 253,
   "id": "d07f660a",
   "metadata": {},
   "outputs": [],
   "source": [
    "def fib(n):\n",
    "    a,b=0,1\n",
    "    for i in range(n):\n",
    "        yield a \n",
    "        a,b = b,a+b\n"
   ]
  },
  {
   "cell_type": "code",
   "execution_count": 254,
   "id": "5b367095",
   "metadata": {},
   "outputs": [
    {
     "data": {
      "text/plain": [
       "<generator object fib at 0x000002449F66F270>"
      ]
     },
     "execution_count": 254,
     "metadata": {},
     "output_type": "execute_result"
    }
   ],
   "source": [
    "fib(10)"
   ]
  },
  {
   "cell_type": "code",
   "execution_count": 255,
   "id": "2d5e542f",
   "metadata": {},
   "outputs": [
    {
     "name": "stdout",
     "output_type": "stream",
     "text": [
      "0\n",
      "1\n",
      "1\n",
      "2\n",
      "3\n",
      "5\n",
      "8\n",
      "13\n",
      "21\n",
      "34\n"
     ]
    }
   ],
   "source": [
    "for i in fib(10):\n",
    "    print(i)"
   ]
  },
  {
   "cell_type": "code",
   "execution_count": 256,
   "id": "3fbd2fa1",
   "metadata": {},
   "outputs": [
    {
     "data": {
      "text/plain": [
       "[0, 1, 1, 2, 3, 5, 8, 13, 21, 34]"
      ]
     },
     "execution_count": 256,
     "metadata": {},
     "output_type": "execute_result"
    }
   ],
   "source": [
    "def fibonacci(n):\n",
    "    fib_series = []\n",
    "    a, b = 0, 1\n",
    "    while len(fib_series) < n:   #or for i in range(n):\n",
    "        fib_series.append(a)\n",
    "        a, b = b, a + b\n",
    "    return fib_series\n",
    "\n",
    "fibonacci(10)"
   ]
  },
  {
   "cell_type": "markdown",
   "id": "be9782b6",
   "metadata": {},
   "source": [
    "# Lambda fn's"
   ]
  },
  {
   "cell_type": "code",
   "execution_count": 257,
   "id": "2f565155",
   "metadata": {},
   "outputs": [],
   "source": [
    "def power(n,p):\n",
    "    return n**p"
   ]
  },
  {
   "cell_type": "code",
   "execution_count": 258,
   "id": "9848ac44",
   "metadata": {},
   "outputs": [
    {
     "data": {
      "text/plain": [
       "9"
      ]
     },
     "execution_count": 258,
     "metadata": {},
     "output_type": "execute_result"
    }
   ],
   "source": [
    "power(3,2)"
   ]
  },
  {
   "cell_type": "code",
   "execution_count": 259,
   "id": "abd9dce2",
   "metadata": {},
   "outputs": [],
   "source": [
    "a=lambda n,p:pow(n,p)"
   ]
  },
  {
   "cell_type": "code",
   "execution_count": 260,
   "id": "1434f912",
   "metadata": {},
   "outputs": [
    {
     "data": {
      "text/plain": [
       "9"
      ]
     },
     "execution_count": 260,
     "metadata": {},
     "output_type": "execute_result"
    }
   ],
   "source": [
    "a(3,2)"
   ]
  },
  {
   "cell_type": "code",
   "execution_count": 261,
   "id": "deb57554",
   "metadata": {},
   "outputs": [],
   "source": [
    "add=lambda x,y:x+y"
   ]
  },
  {
   "cell_type": "code",
   "execution_count": 262,
   "id": "275425cc",
   "metadata": {},
   "outputs": [
    {
     "data": {
      "text/plain": [
       "275"
      ]
     },
     "execution_count": 262,
     "metadata": {},
     "output_type": "execute_result"
    }
   ],
   "source": [
    "add(200,75)"
   ]
  },
  {
   "cell_type": "code",
   "execution_count": 263,
   "id": "b694ba2c",
   "metadata": {},
   "outputs": [],
   "source": [
    "c_to_f=lambda c: (9/5)*c+32"
   ]
  },
  {
   "cell_type": "code",
   "execution_count": 264,
   "id": "6c50ce26",
   "metadata": {},
   "outputs": [
    {
     "data": {
      "text/plain": [
       "89.6"
      ]
     },
     "execution_count": 264,
     "metadata": {},
     "output_type": "execute_result"
    }
   ],
   "source": [
    "c_to_f(32)"
   ]
  },
  {
   "cell_type": "code",
   "execution_count": 265,
   "id": "0cb562af",
   "metadata": {},
   "outputs": [],
   "source": [
    "max_num=lambda x,y: x if x>y else y "
   ]
  },
  {
   "cell_type": "code",
   "execution_count": 266,
   "id": "64a864ea",
   "metadata": {},
   "outputs": [
    {
     "data": {
      "text/plain": [
       "14"
      ]
     },
     "execution_count": 266,
     "metadata": {},
     "output_type": "execute_result"
    }
   ],
   "source": [
    "max_num(14,10)"
   ]
  },
  {
   "cell_type": "code",
   "execution_count": 267,
   "id": "1afee1f6",
   "metadata": {},
   "outputs": [],
   "source": [
    "max_nums = lambda x, y: (print('x is bigger:') or x) if x > y else (print('y is bigger:') or y)"
   ]
  },
  {
   "cell_type": "code",
   "execution_count": 268,
   "id": "0b17cd44",
   "metadata": {},
   "outputs": [
    {
     "name": "stdout",
     "output_type": "stream",
     "text": [
      "y is bigger:\n"
     ]
    },
    {
     "data": {
      "text/plain": [
       "8"
      ]
     },
     "execution_count": 268,
     "metadata": {},
     "output_type": "execute_result"
    }
   ],
   "source": [
    "max_nums(3,8)"
   ]
  },
  {
   "cell_type": "code",
   "execution_count": 269,
   "id": "4b7be0bd",
   "metadata": {},
   "outputs": [],
   "source": [
    "strs='wertyuiklkjhgfds'\n",
    "len_len=lambda strs:len(strs)"
   ]
  },
  {
   "cell_type": "code",
   "execution_count": 270,
   "id": "5246e4a8",
   "metadata": {},
   "outputs": [
    {
     "data": {
      "text/plain": [
       "16"
      ]
     },
     "execution_count": 270,
     "metadata": {},
     "output_type": "execute_result"
    }
   ],
   "source": [
    "len_len(strs)"
   ]
  },
  {
   "cell_type": "markdown",
   "id": "ee89d0d1",
   "metadata": {},
   "source": [
    "# Map, Reduce & Filter fn's"
   ]
  },
  {
   "cell_type": "code",
   "execution_count": 271,
   "id": "79321185",
   "metadata": {},
   "outputs": [],
   "source": [
    "sqq=[1,2,3,4,5]\n",
    "\n",
    "def sq(sqq):\n",
    "    sqs=[]\n",
    "    for i in sqq:\n",
    "        sqs.append(i**2)\n",
    "    return sqs"
   ]
  },
  {
   "cell_type": "code",
   "execution_count": 272,
   "id": "9adf04f3",
   "metadata": {},
   "outputs": [
    {
     "data": {
      "text/plain": [
       "[1, 4, 9, 16, 25]"
      ]
     },
     "execution_count": 272,
     "metadata": {},
     "output_type": "execute_result"
    }
   ],
   "source": [
    "sq(sqq)"
   ]
  },
  {
   "cell_type": "code",
   "execution_count": 273,
   "id": "58027f04",
   "metadata": {},
   "outputs": [],
   "source": [
    "def sq(x):\n",
    "    return pow(x,2)"
   ]
  },
  {
   "cell_type": "code",
   "execution_count": 274,
   "id": "2029e6e3",
   "metadata": {},
   "outputs": [
    {
     "data": {
      "text/plain": [
       "<map at 0x2449f67efd0>"
      ]
     },
     "execution_count": 274,
     "metadata": {},
     "output_type": "execute_result"
    }
   ],
   "source": [
    "map(sq,sqq)"
   ]
  },
  {
   "cell_type": "code",
   "execution_count": 275,
   "id": "8f65f16d",
   "metadata": {},
   "outputs": [
    {
     "data": {
      "text/plain": [
       "[1, 4, 9, 16, 25]"
      ]
     },
     "execution_count": 275,
     "metadata": {},
     "output_type": "execute_result"
    }
   ],
   "source": [
    "list(map(sq,sqq))"
   ]
  },
  {
   "cell_type": "code",
   "execution_count": 276,
   "id": "4407870e",
   "metadata": {},
   "outputs": [
    {
     "data": {
      "text/plain": [
       "[1, 4, 9, 16, 25]"
      ]
     },
     "execution_count": 276,
     "metadata": {},
     "output_type": "execute_result"
    }
   ],
   "source": [
    "list(map(lambda x:pow(x,2),sqq))"
   ]
  },
  {
   "cell_type": "code",
   "execution_count": 277,
   "id": "656f7478",
   "metadata": {},
   "outputs": [
    {
     "data": {
      "text/plain": [
       "[11, 12, 13, 14, 15]"
      ]
     },
     "execution_count": 277,
     "metadata": {},
     "output_type": "execute_result"
    }
   ],
   "source": [
    "list(map(lambda x:x+10,sqq))"
   ]
  },
  {
   "cell_type": "code",
   "execution_count": 278,
   "id": "3d8ece21",
   "metadata": {},
   "outputs": [
    {
     "data": {
      "text/plain": [
       "['1', '2', '3', '4', '5']"
      ]
     },
     "execution_count": 278,
     "metadata": {},
     "output_type": "execute_result"
    }
   ],
   "source": [
    "list(map(lambda x:str(x),sqq))"
   ]
  },
  {
   "cell_type": "code",
   "execution_count": 279,
   "id": "987008ed",
   "metadata": {},
   "outputs": [],
   "source": [
    "l1=[1,2,3,4,5]\n",
    "l2=[6,7,8,9,10]\n",
    "l3=[11,12,13,14,15]"
   ]
  },
  {
   "cell_type": "code",
   "execution_count": 280,
   "id": "508c4a29",
   "metadata": {},
   "outputs": [
    {
     "data": {
      "text/plain": [
       "[18, 21, 24, 27, 30]"
      ]
     },
     "execution_count": 280,
     "metadata": {},
     "output_type": "execute_result"
    }
   ],
   "source": [
    "list(map(lambda x,y,z:x+y+z,l1,l3,l2))"
   ]
  },
  {
   "cell_type": "code",
   "execution_count": 281,
   "id": "76870d9a",
   "metadata": {},
   "outputs": [
    {
     "data": {
      "text/plain": [
       "['Q', 'W', 'E', 'R', 'T', 'Y', 'U', 'I', 'O', 'P']"
      ]
     },
     "execution_count": 281,
     "metadata": {},
     "output_type": "execute_result"
    }
   ],
   "source": [
    "s='qwertyuiop'\n",
    "\n",
    "list(map(lambda x: x.upper(),s))"
   ]
  },
  {
   "cell_type": "code",
   "execution_count": 282,
   "id": "08fb3f5e",
   "metadata": {},
   "outputs": [],
   "source": [
    "from functools import reduce"
   ]
  },
  {
   "cell_type": "code",
   "execution_count": 283,
   "id": "2960d6e6",
   "metadata": {},
   "outputs": [
    {
     "data": {
      "text/plain": [
       "19"
      ]
     },
     "execution_count": 283,
     "metadata": {},
     "output_type": "execute_result"
    }
   ],
   "source": [
    "l=[1,2,3,4,5,4]\n",
    "reduce(lambda x,y:x+y,l)"
   ]
  },
  {
   "cell_type": "code",
   "execution_count": 284,
   "id": "b6d264ee",
   "metadata": {},
   "outputs": [],
   "source": [
    "def red(x,y):\n",
    "    return x+y  #reduce collapse if we have 3 pairs like x,y,z"
   ]
  },
  {
   "cell_type": "code",
   "execution_count": 285,
   "id": "bc3b57b4",
   "metadata": {},
   "outputs": [
    {
     "data": {
      "text/plain": [
       "19"
      ]
     },
     "execution_count": 285,
     "metadata": {},
     "output_type": "execute_result"
    }
   ],
   "source": [
    "reduce(red,l)"
   ]
  },
  {
   "cell_type": "code",
   "execution_count": 286,
   "id": "9b9cb399",
   "metadata": {},
   "outputs": [
    {
     "data": {
      "text/plain": [
       "1"
      ]
     },
     "execution_count": 286,
     "metadata": {},
     "output_type": "execute_result"
    }
   ],
   "source": [
    "reduce(lambda x,y:x+y,[1])"
   ]
  },
  {
   "cell_type": "code",
   "execution_count": 287,
   "id": "05edb0a1",
   "metadata": {},
   "outputs": [
    {
     "name": "stdout",
     "output_type": "stream",
     "text": [
      "11\n"
     ]
    }
   ],
   "source": [
    "from functools import reduce\n",
    "\n",
    "result = reduce(lambda x, y: x + y, [1], 10)\n",
    "print(result)"
   ]
  },
  {
   "cell_type": "code",
   "execution_count": 288,
   "id": "e379501a",
   "metadata": {},
   "outputs": [
    {
     "name": "stdout",
     "output_type": "stream",
     "text": [
      "[2, 4, 6, 8, 10]\n",
      "[2, 4]\n",
      "15\n"
     ]
    }
   ],
   "source": [
    "from functools import reduce\n",
    "\n",
    "numbers = [1, 2, 3, 4, 5]\n",
    "\n",
    "# Map example: double each number\n",
    "doubled = map(lambda x: x * 2, numbers)\n",
    "print(list(doubled))  # Output: [2, 4, 6, 8, 10]\n",
    "\n",
    "# Filter example: get only even numbers\n",
    "even_numbers = filter(lambda x: x % 2 == 0, numbers)\n",
    "print(list(even_numbers))  # Output: [2, 4]\n",
    "\n",
    "# Reduce example: sum all numbers\n",
    "sum_of_numbers = reduce(lambda x, y: x + y, numbers)\n",
    "print(sum_of_numbers)  # Output: 15"
   ]
  },
  {
   "cell_type": "code",
   "execution_count": 289,
   "id": "29ea25e3",
   "metadata": {},
   "outputs": [
    {
     "data": {
      "text/plain": [
       "5"
      ]
     },
     "execution_count": 289,
     "metadata": {},
     "output_type": "execute_result"
    }
   ],
   "source": [
    "reduce(lambda x,y:x if x>y else y,l)"
   ]
  },
  {
   "cell_type": "code",
   "execution_count": 290,
   "id": "d9ffffa6",
   "metadata": {},
   "outputs": [
    {
     "data": {
      "text/plain": [
       "[2, 4, 4]"
      ]
     },
     "execution_count": 290,
     "metadata": {},
     "output_type": "execute_result"
    }
   ],
   "source": [
    "list(filter(lambda x:x%2 ==0,l))"
   ]
  },
  {
   "cell_type": "code",
   "execution_count": 291,
   "id": "dd9fa956",
   "metadata": {},
   "outputs": [
    {
     "data": {
      "text/plain": [
       "[1, 2, 3, 4, 5, 4]"
      ]
     },
     "execution_count": 291,
     "metadata": {},
     "output_type": "execute_result"
    }
   ],
   "source": [
    "l"
   ]
  },
  {
   "cell_type": "code",
   "execution_count": 292,
   "id": "2e2961da",
   "metadata": {},
   "outputs": [
    {
     "data": {
      "text/plain": [
       "[1, 3, 5]"
      ]
     },
     "execution_count": 292,
     "metadata": {},
     "output_type": "execute_result"
    }
   ],
   "source": [
    "list(filter(lambda x:x%2!=0,l))"
   ]
  },
  {
   "cell_type": "code",
   "execution_count": 293,
   "id": "697f68ce",
   "metadata": {},
   "outputs": [],
   "source": [
    "l1=[-2,4,5,6,-3,-6,7]"
   ]
  },
  {
   "cell_type": "code",
   "execution_count": 294,
   "id": "2dfebec9",
   "metadata": {},
   "outputs": [
    {
     "data": {
      "text/plain": [
       "[4, 5, 6, 7]"
      ]
     },
     "execution_count": 294,
     "metadata": {},
     "output_type": "execute_result"
    }
   ],
   "source": [
    "list(filter(lambda x:x>0,l1))"
   ]
  },
  {
   "cell_type": "code",
   "execution_count": 295,
   "id": "1e349fb4",
   "metadata": {},
   "outputs": [
    {
     "data": {
      "text/plain": [
       "[-2, -3, -6]"
      ]
     },
     "execution_count": 295,
     "metadata": {},
     "output_type": "execute_result"
    }
   ],
   "source": [
    "list(filter(lambda x:x<0,l1))"
   ]
  },
  {
   "cell_type": "code",
   "execution_count": 296,
   "id": "ac90138e",
   "metadata": {},
   "outputs": [],
   "source": [
    "x2=['sam','ertyg','qwerty','oijsvdft','fdg','tsrtyu']"
   ]
  },
  {
   "cell_type": "code",
   "execution_count": 297,
   "id": "2d30e049",
   "metadata": {},
   "outputs": [
    {
     "data": {
      "text/plain": [
       "['sam', 'ertyg', 'qwerty', 'fdg', 'tsrtyu']"
      ]
     },
     "execution_count": 297,
     "metadata": {},
     "output_type": "execute_result"
    }
   ],
   "source": [
    "list(filter(lambda x: len(x) <= 6, x2))"
   ]
  },
  {
   "cell_type": "markdown",
   "id": "1fd7a1d8",
   "metadata": {},
   "source": [
    "# OOPs"
   ]
  },
  {
   "cell_type": "code",
   "execution_count": 298,
   "id": "42b1028c",
   "metadata": {},
   "outputs": [],
   "source": [
    "a=1"
   ]
  },
  {
   "cell_type": "code",
   "execution_count": 299,
   "id": "eb8b4ca5",
   "metadata": {},
   "outputs": [
    {
     "name": "stdout",
     "output_type": "stream",
     "text": [
      "<class 'str'>\n"
     ]
    }
   ],
   "source": [
    "print(type('a'))"
   ]
  },
  {
   "cell_type": "code",
   "execution_count": 300,
   "id": "d3b08ce7",
   "metadata": {},
   "outputs": [
    {
     "name": "stdout",
     "output_type": "stream",
     "text": [
      "<class 'str'>\n"
     ]
    }
   ],
   "source": [
    "print(type('tre'))"
   ]
  },
  {
   "cell_type": "code",
   "execution_count": 301,
   "id": "28661eeb",
   "metadata": {},
   "outputs": [],
   "source": [
    "class test:\n",
    "    pass"
   ]
  },
  {
   "cell_type": "code",
   "execution_count": 302,
   "id": "01b3b072",
   "metadata": {},
   "outputs": [],
   "source": [
    "a=test()"
   ]
  },
  {
   "cell_type": "code",
   "execution_count": 303,
   "id": "8c3e2918",
   "metadata": {},
   "outputs": [
    {
     "name": "stdout",
     "output_type": "stream",
     "text": [
      "<class '__main__.test'>\n"
     ]
    }
   ],
   "source": [
    "print(type(a))"
   ]
  },
  {
   "cell_type": "code",
   "execution_count": 304,
   "id": "ddf240d8",
   "metadata": {},
   "outputs": [],
   "source": [
    "class pwskills:\n",
    "    \n",
    "    def welcome_msg(self):\n",
    "        print('Hi Welcome!')"
   ]
  },
  {
   "cell_type": "code",
   "execution_count": 305,
   "id": "f229243e",
   "metadata": {},
   "outputs": [],
   "source": [
    "rohan=pwskills()"
   ]
  },
  {
   "cell_type": "code",
   "execution_count": 306,
   "id": "43367b26",
   "metadata": {},
   "outputs": [
    {
     "name": "stdout",
     "output_type": "stream",
     "text": [
      "Hi Welcome!\n"
     ]
    }
   ],
   "source": [
    "rohan.welcome_msg()"
   ]
  },
  {
   "cell_type": "code",
   "execution_count": 307,
   "id": "c209c7a5",
   "metadata": {},
   "outputs": [],
   "source": [
    "sohan=pwskills()"
   ]
  },
  {
   "cell_type": "code",
   "execution_count": 308,
   "id": "601abbaa",
   "metadata": {},
   "outputs": [
    {
     "name": "stdout",
     "output_type": "stream",
     "text": [
      "Hi Welcome!\n"
     ]
    }
   ],
   "source": [
    "sohan.welcome_msg()"
   ]
  },
  {
   "cell_type": "code",
   "execution_count": 309,
   "id": "1392e896",
   "metadata": {},
   "outputs": [],
   "source": [
    "a,b=1,2"
   ]
  },
  {
   "cell_type": "code",
   "execution_count": 310,
   "id": "6daff33f",
   "metadata": {},
   "outputs": [
    {
     "data": {
      "text/plain": [
       "[1, 2]"
      ]
     },
     "execution_count": 310,
     "metadata": {},
     "output_type": "execute_result"
    }
   ],
   "source": [
    "[a,b]"
   ]
  },
  {
   "cell_type": "code",
   "execution_count": 311,
   "id": "f207cbf9",
   "metadata": {},
   "outputs": [],
   "source": [
    "class pwskills1:\n",
    "    \n",
    "    def __init__(self,s_id,s_name,s_phn,s_email):\n",
    "        \n",
    "        self.s_id=s_id\n",
    "        self.s_name=s_name\n",
    "        self.s_phn=s_phn\n",
    "        self.s_email=s_email\n",
    "        \n",
    "        \n",
    "    def return_student_details(self):\n",
    "        return self.s_id,self.s_name,self.s_phn,self.s_email"
   ]
  },
  {
   "cell_type": "code",
   "execution_count": 312,
   "id": "80b49ba4",
   "metadata": {},
   "outputs": [],
   "source": [
    "rohan=pwskills1(1,'Rohan',123456789,'rohan@gmail.com')"
   ]
  },
  {
   "cell_type": "code",
   "execution_count": 313,
   "id": "a117bf8f",
   "metadata": {},
   "outputs": [
    {
     "data": {
      "text/plain": [
       "1"
      ]
     },
     "execution_count": 313,
     "metadata": {},
     "output_type": "execute_result"
    }
   ],
   "source": [
    "rohan.s_id  #Here s_id maps to self.rohan"
   ]
  },
  {
   "cell_type": "code",
   "execution_count": 314,
   "id": "d7a39e09",
   "metadata": {},
   "outputs": [
    {
     "data": {
      "text/plain": [
       "'Rohan'"
      ]
     },
     "execution_count": 314,
     "metadata": {},
     "output_type": "execute_result"
    }
   ],
   "source": [
    "rohan.s_name"
   ]
  },
  {
   "cell_type": "code",
   "execution_count": 315,
   "id": "4e2b30e9",
   "metadata": {},
   "outputs": [
    {
     "data": {
      "text/plain": [
       "123456789"
      ]
     },
     "execution_count": 315,
     "metadata": {},
     "output_type": "execute_result"
    }
   ],
   "source": [
    "rohan.s_phn"
   ]
  },
  {
   "cell_type": "code",
   "execution_count": 316,
   "id": "334cf052",
   "metadata": {},
   "outputs": [
    {
     "data": {
      "text/plain": [
       "'rohan@gmail.com'"
      ]
     },
     "execution_count": 316,
     "metadata": {},
     "output_type": "execute_result"
    }
   ],
   "source": [
    "rohan.s_email"
   ]
  },
  {
   "cell_type": "code",
   "execution_count": 317,
   "id": "a3040992",
   "metadata": {},
   "outputs": [],
   "source": [
    "sohan=pwskills1(2,'Sohan',1234,'sohan@gmail.com')"
   ]
  },
  {
   "cell_type": "code",
   "execution_count": 318,
   "id": "8e61154d",
   "metadata": {},
   "outputs": [
    {
     "data": {
      "text/plain": [
       "'Sohan'"
      ]
     },
     "execution_count": 318,
     "metadata": {},
     "output_type": "execute_result"
    }
   ],
   "source": [
    "sohan.s_name"
   ]
  },
  {
   "cell_type": "code",
   "execution_count": 319,
   "id": "1f2c7ac3",
   "metadata": {},
   "outputs": [],
   "source": [
    "class pwskills2:\n",
    "    def stud_details(self,name,mail, number):\n",
    "        print(name,mail,number)"
   ]
  },
  {
   "cell_type": "code",
   "execution_count": 320,
   "id": "d9a98abf",
   "metadata": {},
   "outputs": [],
   "source": [
    "pw=pwskills2()"
   ]
  },
  {
   "cell_type": "code",
   "execution_count": 321,
   "id": "d3502446",
   "metadata": {},
   "outputs": [
    {
     "name": "stdout",
     "output_type": "stream",
     "text": [
      "Ram ram@mail.com 595\n"
     ]
    }
   ],
   "source": [
    "pw.stud_details('Ram','ram@mail.com',595)"
   ]
  },
  {
   "cell_type": "raw",
   "id": "68b7f72f",
   "metadata": {},
   "source": [
    "Static Method:"
   ]
  },
  {
   "cell_type": "code",
   "execution_count": 322,
   "id": "a9a1368a",
   "metadata": {},
   "outputs": [],
   "source": [
    "class static:\n",
    "    @staticmethod\n",
    "    def mentor_class(list_mentor):\n",
    "        print(list_mentor)\n",
    "        \n",
    "    def mentor(self, mentor_list):\n",
    "        print(mentor_list)"
   ]
  },
  {
   "cell_type": "code",
   "execution_count": 323,
   "id": "ea7a6658",
   "metadata": {},
   "outputs": [],
   "source": [
    "pw1=static()"
   ]
  },
  {
   "cell_type": "code",
   "execution_count": 324,
   "id": "37e2d5b0",
   "metadata": {},
   "outputs": [
    {
     "name": "stdout",
     "output_type": "stream",
     "text": [
      "['rahul', 'routh', 3456]\n"
     ]
    }
   ],
   "source": [
    "pw1.mentor(['rahul','routh',3456])"
   ]
  },
  {
   "cell_type": "code",
   "execution_count": 325,
   "id": "b6a77855",
   "metadata": {},
   "outputs": [
    {
     "name": "stdout",
     "output_type": "stream",
     "text": [
      "['wertyui', 'wertyu']\n"
     ]
    }
   ],
   "source": [
    "pw1.mentor_class(['wertyui','wertyu'])"
   ]
  },
  {
   "cell_type": "markdown",
   "id": "381729f7",
   "metadata": {},
   "source": [
    "# Inheritance"
   ]
  },
  {
   "cell_type": "code",
   "execution_count": 326,
   "id": "080a359c",
   "metadata": {},
   "outputs": [],
   "source": [
    "class parent:\n",
    "    \n",
    "    def test_parent(self):\n",
    "        print('This is an Inheritance program')"
   ]
  },
  {
   "cell_type": "code",
   "execution_count": 327,
   "id": "602f2edf",
   "metadata": {},
   "outputs": [],
   "source": [
    "class child(parent):\n",
    "    pass"
   ]
  },
  {
   "cell_type": "code",
   "execution_count": 328,
   "id": "85ced66b",
   "metadata": {},
   "outputs": [],
   "source": [
    "child_obj=child()"
   ]
  },
  {
   "cell_type": "code",
   "execution_count": 329,
   "id": "18a17998",
   "metadata": {},
   "outputs": [
    {
     "name": "stdout",
     "output_type": "stream",
     "text": [
      "This is an Inheritance program\n"
     ]
    }
   ],
   "source": [
    "child_obj.test_parent()"
   ]
  },
  {
   "cell_type": "code",
   "execution_count": 330,
   "id": "34f2c555",
   "metadata": {},
   "outputs": [],
   "source": [
    "class class1:\n",
    "    \n",
    "    def test_class1(self):\n",
    "        print(\"This is my class1\")"
   ]
  },
  {
   "cell_type": "code",
   "execution_count": 331,
   "id": "1d5ddd6f",
   "metadata": {},
   "outputs": [],
   "source": [
    "class class2(class1):\n",
    "    \n",
    "    def test_class2(self):\n",
    "        print(\"This is my class2\")        "
   ]
  },
  {
   "cell_type": "code",
   "execution_count": 332,
   "id": "c08a8ada",
   "metadata": {},
   "outputs": [],
   "source": [
    "class class3(class2):\n",
    "    \n",
    "    def test_class3(self):\n",
    "        print(\"This is my class3\")"
   ]
  },
  {
   "cell_type": "code",
   "execution_count": 333,
   "id": "9af1ecd9",
   "metadata": {},
   "outputs": [],
   "source": [
    "obj_class3=class3()"
   ]
  },
  {
   "cell_type": "code",
   "execution_count": 334,
   "id": "874e48c1",
   "metadata": {},
   "outputs": [
    {
     "name": "stdout",
     "output_type": "stream",
     "text": [
      "This is my class1\n"
     ]
    }
   ],
   "source": [
    "obj_class3.test_class1()"
   ]
  },
  {
   "cell_type": "code",
   "execution_count": 335,
   "id": "4a27371d",
   "metadata": {},
   "outputs": [
    {
     "name": "stdout",
     "output_type": "stream",
     "text": [
      "This is my class2\n"
     ]
    }
   ],
   "source": [
    " obj_class3.test_class2()"
   ]
  },
  {
   "cell_type": "code",
   "execution_count": 336,
   "id": "c6e51056",
   "metadata": {},
   "outputs": [],
   "source": [
    "class class1:\n",
    "    def test_class1(self):\n",
    "        print('This is my class1')"
   ]
  },
  {
   "cell_type": "code",
   "execution_count": 337,
   "id": "0c50ab90",
   "metadata": {},
   "outputs": [],
   "source": [
    "class class2:\n",
    "    def test_class2(self):\n",
    "        print('This is my class2')"
   ]
  },
  {
   "cell_type": "code",
   "execution_count": 338,
   "id": "1720dcc1",
   "metadata": {},
   "outputs": [],
   "source": [
    "class class3(class1,class2):\n",
    "    pass"
   ]
  },
  {
   "cell_type": "code",
   "execution_count": 339,
   "id": "95bd94f2",
   "metadata": {},
   "outputs": [],
   "source": [
    "obj_class3=class3()"
   ]
  },
  {
   "cell_type": "code",
   "execution_count": 340,
   "id": "d79524e4",
   "metadata": {},
   "outputs": [
    {
     "name": "stdout",
     "output_type": "stream",
     "text": [
      "This is my class1\n"
     ]
    }
   ],
   "source": [
    "obj_class3.test_class1()"
   ]
  },
  {
   "cell_type": "code",
   "execution_count": 341,
   "id": "5d9df1c6",
   "metadata": {},
   "outputs": [],
   "source": [
    "a=[1,2,3,4,5]\n",
    "b=[1,4,5,7,9]"
   ]
  },
  {
   "cell_type": "code",
   "execution_count": 342,
   "id": "0e6a5623",
   "metadata": {},
   "outputs": [],
   "source": [
    "def common():\n",
    "    \n",
    "    for i in a:\n",
    "        for j in b:\n",
    "            if i==j:\n",
    "                print(i)           "
   ]
  },
  {
   "cell_type": "code",
   "execution_count": 343,
   "id": "2831d688",
   "metadata": {},
   "outputs": [
    {
     "name": "stdout",
     "output_type": "stream",
     "text": [
      "1\n",
      "4\n",
      "5\n"
     ]
    }
   ],
   "source": [
    "common()"
   ]
  },
  {
   "cell_type": "code",
   "execution_count": 344,
   "id": "c2862197",
   "metadata": {},
   "outputs": [
    {
     "name": "stdout",
     "output_type": "stream",
     "text": [
      "Non-common elements: [1, 2, 3, 8, 6, 7]\n"
     ]
    }
   ],
   "source": [
    "def print_non_common_elements(a, b):\n",
    "    set_a = set(a)\n",
    "    set_b = set(b)\n",
    "    \n",
    "    non_common_a = set_a - set_b  # Elements in a but not in b\n",
    "    non_common_b = set_b - set_a  # Elements in b but not in a\n",
    "        \n",
    "    non_common_elements = list(non_common_a) + list(non_common_b)\n",
    "    \n",
    "    print(\"Non-common elements:\", non_common_elements)\n",
    "\n",
    "# Example usage\n",
    "a = [1, 2, 3, 4, 5]\n",
    "b = [4, 5, 6, 7, 8]\n",
    "\n",
    "print_non_common_elements(a, b)"
   ]
  },
  {
   "cell_type": "markdown",
   "id": "7d499abb",
   "metadata": {},
   "source": [
    "# Files"
   ]
  },
  {
   "cell_type": "code",
   "execution_count": 345,
   "id": "62fee155",
   "metadata": {},
   "outputs": [],
   "source": [
    "f=open('file.txt','w')"
   ]
  },
  {
   "cell_type": "code",
   "execution_count": 346,
   "id": "f49019ef",
   "metadata": {},
   "outputs": [
    {
     "data": {
      "text/plain": [
       "'C:\\\\Users\\\\DELL\\\\Python practise'"
      ]
     },
     "execution_count": 346,
     "metadata": {},
     "output_type": "execute_result"
    }
   ],
   "source": [
    "%pwd"
   ]
  },
  {
   "cell_type": "code",
   "execution_count": 347,
   "id": "8eeb5cc6",
   "metadata": {},
   "outputs": [
    {
     "name": "stdout",
     "output_type": "stream",
     "text": [
      " Volume in drive C is OS\n",
      " Volume Serial Number is B2B3-324E\n",
      "\n",
      " Directory of C:\\Users\\DELL\\Python practise\n",
      "\n",
      "05-06-2024  12:45    <DIR>          .\n",
      "24-05-2024  12:17    <DIR>          ..\n",
      "29-05-2024  15:13    <DIR>          .ipynb_checkpoints\n",
      "05-06-2024  12:46        11,894,789 .log\n",
      "19-04-2024  15:05             2,386 50_Startups.csv\n",
      "22-03-2024  10:08           194,323 Classified Data.txt\n",
      "15-03-2024  15:37           137,541 customers.json\n",
      "29-05-2024  10:02           134,464 Deep Learning.ipynb\n",
      "23-05-2024  12:44           623,217 EDA.ipynb\n",
      "03-06-2024  16:55           177,472 Feature Eng.ipynb\n",
      "05-06-2024  12:47                 0 file.txt\n",
      "24-05-2024  11:58         3,663,305 House Price Prediction 2.ipynb\n",
      "21-05-2024  17:08         2,245,081 House Price Prediction.ipynb\n",
      "10-04-2024  09:19           451,405 Houseprice_test.csv\n",
      "10-04-2024  09:18           460,676 Houseprice_train.csv\n",
      "14-03-2024  11:38             3,857 IRIS.csv\n",
      "24-05-2024  12:12           956,895 logs.log\n",
      "27-03-2024  16:45           230,298 Matplotlib.ipynb\n",
      "12-02-2024  17:13         3,220,873 Mercedesbenz.csv\n",
      "29-05-2024  14:31         7,865,132 ML Algorithms.ipynb\n",
      "29-05-2024  17:15           332,796 Np & Pd.ipynb\n",
      "24-05-2024  14:28         6,497,245 Plotly.ipynb\n",
      "05-06-2024  12:45           120,494 Python 2.ipynb\n",
      "03-06-2024  12:21           139,535 Python.ipynb\n",
      "24-05-2024  12:13           495,568 Seaborn.ipynb\n",
      "24-05-2024  10:08         1,100,307 test.xlsx\n",
      "29-05-2024  17:14               102 Test1.csv\n",
      "14-02-2024  17:16            60,302 titanic_train.csv\n",
      "24-05-2024  10:08         2,785,633 train.xlsx\n",
      "29-04-2024  14:36        47,540,750 uber-raw-data-sep14.csv\n",
      "23-05-2024  10:48           697,382 Usable functions.ipynb\n",
      "21-05-2024  15:32         5,157,146 Usecases.ipynb\n",
      "29-02-2024  15:28            11,089 wine-clustering.csv\n",
      "23-05-2024  17:33           450,075 X_train.csv\n",
      "              31 File(s)     97,650,138 bytes\n",
      "               3 Dir(s)  306,567,012,352 bytes free\n"
     ]
    }
   ],
   "source": [
    "ls"
   ]
  },
  {
   "cell_type": "code",
   "execution_count": 348,
   "id": "9b3ee3f3",
   "metadata": {
    "scrolled": true
   },
   "outputs": [
    {
     "data": {
      "text/plain": [
       "22"
      ]
     },
     "execution_count": 348,
     "metadata": {},
     "output_type": "execute_result"
    }
   ],
   "source": [
    "f.write('This is a file program')"
   ]
  },
  {
   "cell_type": "code",
   "execution_count": 349,
   "id": "194f3771",
   "metadata": {},
   "outputs": [],
   "source": [
    "f.close()"
   ]
  },
  {
   "cell_type": "code",
   "execution_count": 350,
   "id": "a0080d08",
   "metadata": {},
   "outputs": [],
   "source": [
    "data=open('file.txt',\"r\")"
   ]
  },
  {
   "cell_type": "code",
   "execution_count": 351,
   "id": "eb765a4f",
   "metadata": {
    "scrolled": false
   },
   "outputs": [
    {
     "data": {
      "text/plain": [
       "'This is a file program'"
      ]
     },
     "execution_count": 351,
     "metadata": {},
     "output_type": "execute_result"
    }
   ],
   "source": [
    "data.read()"
   ]
  },
  {
   "cell_type": "code",
   "execution_count": 352,
   "id": "3ce6a8f4",
   "metadata": {},
   "outputs": [
    {
     "data": {
      "text/plain": [
       "0"
      ]
     },
     "execution_count": 352,
     "metadata": {},
     "output_type": "execute_result"
    }
   ],
   "source": [
    "data.seek(0)"
   ]
  },
  {
   "cell_type": "code",
   "execution_count": 353,
   "id": "daed5fed",
   "metadata": {},
   "outputs": [
    {
     "data": {
      "text/plain": [
       "'This is a file program'"
      ]
     },
     "execution_count": 353,
     "metadata": {},
     "output_type": "execute_result"
    }
   ],
   "source": [
    "data.read()"
   ]
  },
  {
   "cell_type": "code",
   "execution_count": 26,
   "id": "d90893cb",
   "metadata": {},
   "outputs": [
    {
     "name": "stdout",
     "output_type": "stream",
     "text": [
      "     June 2024\n",
      "Su Mo Tu We Th Fr Sa\n",
      "                   1\n",
      " 2  3  4  5  6  7  8\n",
      " 9 10 11 12 13 14 15\n",
      "16 17 18 19 20 21 22\n",
      "23 24 25 26 27 28 29\n",
      "30\n",
      "\n"
     ]
    }
   ],
   "source": [
    "import calendar\n",
    "\n",
    "def print_calendar(year, month):\n",
    "    # Create a plain text calendar\n",
    "    cal = calendar.TextCalendar(calendar.SUNDAY)\n",
    "    # Format the month into a string\n",
    "    month_str = cal.formatmonth(year, month)\n",
    "\n",
    "    # Print the formatted month string\n",
    "    print(month_str)\n",
    "\n",
    "# Example usage\n",
    "year = 2024\n",
    "month = 6\n",
    "print_calendar(year, month)\n"
   ]
  },
  {
   "cell_type": "markdown",
   "id": "a6c9a37d",
   "metadata": {},
   "source": [
    "# Exception Handling"
   ]
  },
  {
   "cell_type": "code",
   "execution_count": 356,
   "id": "e971d243",
   "metadata": {},
   "outputs": [
    {
     "name": "stdout",
     "output_type": "stream",
     "text": [
      "The datatypes of variables are different\n"
     ]
    }
   ],
   "source": [
    "try:\n",
    "    a=1\n",
    "    b='s'\n",
    "    c=a+b\n",
    "except TypeError: \n",
    "    print('The datatypes of variables are different')\n",
    "except Exception as e:\n",
    "    print(e)"
   ]
  },
  {
   "cell_type": "code",
   "execution_count": 362,
   "id": "0d7032b5",
   "metadata": {
    "scrolled": true
   },
   "outputs": [
    {
     "ename": "FileNotFoundError",
     "evalue": "[Errno 2] No such file or directory: 'text.txt'",
     "output_type": "error",
     "traceback": [
      "\u001b[1;31m---------------------------------------------------------------------------\u001b[0m",
      "\u001b[1;31mFileNotFoundError\u001b[0m                         Traceback (most recent call last)",
      "Input \u001b[1;32mIn [362]\u001b[0m, in \u001b[0;36m<cell line: 1>\u001b[1;34m()\u001b[0m\n\u001b[1;32m----> 1\u001b[0m f\u001b[38;5;241m=\u001b[39m\u001b[38;5;28;43mopen\u001b[39;49m\u001b[43m(\u001b[49m\u001b[38;5;124;43m\"\u001b[39;49m\u001b[38;5;124;43mtext.txt\u001b[39;49m\u001b[38;5;124;43m\"\u001b[39;49m\u001b[43m,\u001b[49m\u001b[38;5;124;43m'\u001b[39;49m\u001b[38;5;124;43mr\u001b[39;49m\u001b[38;5;124;43m'\u001b[39;49m\u001b[43m)\u001b[49m\n\u001b[0;32m      2\u001b[0m \u001b[38;5;28mprint\u001b[39m(\u001b[38;5;124m\"\u001b[39m\u001b[38;5;124mThis is my print\u001b[39m\u001b[38;5;124m\"\u001b[39m)\n",
      "\u001b[1;31mFileNotFoundError\u001b[0m: [Errno 2] No such file or directory: 'text.txt'"
     ]
    }
   ],
   "source": [
    "f=open(\"text.txt\",'r')\n",
    "print(\"This is my print\")"
   ]
  },
  {
   "cell_type": "code",
   "execution_count": 370,
   "id": "cd863eea",
   "metadata": {},
   "outputs": [
    {
     "name": "stdout",
     "output_type": "stream",
     "text": [
      "There is some issue in my code:\t [Errno 2] No such file or directory: 'text.txt'\n"
     ]
    }
   ],
   "source": [
    "try:\n",
    "    f=open(\"text.txt\",'r')\n",
    "except Exception as ex:\n",
    "    print(\"There is some issue in my code:\\t\", ex)"
   ]
  },
  {
   "cell_type": "code",
   "execution_count": 372,
   "id": "e012e266",
   "metadata": {},
   "outputs": [
    {
     "name": "stdout",
     "output_type": "stream",
     "text": [
      "There is some issue in my code:\t [Errno 2] No such file or directory: 'text.txt'\n",
      "This is my print statement\n"
     ]
    },
    {
     "data": {
      "text/plain": [
       "10"
      ]
     },
     "execution_count": 372,
     "metadata": {},
     "output_type": "execute_result"
    }
   ],
   "source": [
    "try:\n",
    "    f=open(\"text.txt\",'r')\n",
    "except Exception as ex:\n",
    "    print(\"There is some issue in my code:\\t\", ex)\n",
    "print(\"This is my print statement\")\n",
    "a=10\n",
    "a"
   ]
  },
  {
   "cell_type": "code",
   "execution_count": 388,
   "id": "882b8fd4",
   "metadata": {},
   "outputs": [
    {
     "name": "stdout",
     "output_type": "stream",
     "text": [
      "Enter a:67\n",
      "Enter b:'strr'\n",
      "invalid literal for int() with base 10: \"'strr'\"\n",
      "The Execution is Done\n"
     ]
    }
   ],
   "source": [
    "try: \n",
    "    a=int(input('Enter a:'))\n",
    "    b=int(input('Enter b:'))\n",
    "    c=a/b\n",
    "    d=a*b\n",
    "    e=a+b\n",
    "    \n",
    "except TypeError:\n",
    "    print('Try to make Datatype similar')\n",
    "except ZeroDivisionError:\n",
    "    print('The number should be greater than 0')\n",
    "except Exception as ex:\n",
    "    print(ex)\n",
    "    \n",
    "else:\n",
    "    print(c)\n",
    "    print(d)\n",
    "    print(e)\n",
    "\n",
    "finally:\n",
    "    print('The Execution is Done')"
   ]
  },
  {
   "cell_type": "code",
   "execution_count": 390,
   "id": "ae1ba435",
   "metadata": {},
   "outputs": [],
   "source": [
    "class validateage(Exception):\n",
    "    def __init__(self,msg):\n",
    "        self.msg=msg"
   ]
  },
  {
   "cell_type": "code",
   "execution_count": 391,
   "id": "47d214d7",
   "metadata": {},
   "outputs": [],
   "source": [
    "def validate_age(age):\n",
    "    if age<0:\n",
    "        raise validateage('age should be greater than zero-0')\n",
    "    elif age>100:\n",
    "        raise validateage('age is too high')\n",
    "        \n",
    "    else:\n",
    "        print(\"age is valid\")"
   ]
  },
  {
   "cell_type": "code",
   "execution_count": 392,
   "id": "193f5966",
   "metadata": {},
   "outputs": [
    {
     "name": "stdout",
     "output_type": "stream",
     "text": [
      "Enter age:345\n",
      "age is too high\n"
     ]
    }
   ],
   "source": [
    "try:\n",
    "    age=int(input('Enter age:'))\n",
    "    validate_age(age)\n",
    "except validateage as e:\n",
    "    print(e)"
   ]
  },
  {
   "cell_type": "code",
   "execution_count": 2,
   "id": "bf9416fb",
   "metadata": {},
   "outputs": [
    {
     "name": "stdout",
     "output_type": "stream",
     "text": [
      "division by zero\n"
     ]
    }
   ],
   "source": [
    "try:\n",
    "    a=10\n",
    "    a/0\n",
    "except ZeroDivisionError as ex:\n",
    "    print(ex)"
   ]
  },
  {
   "cell_type": "code",
   "execution_count": 3,
   "id": "ea762461",
   "metadata": {},
   "outputs": [
    {
     "name": "stdout",
     "output_type": "stream",
     "text": [
      "This is an error\n"
     ]
    }
   ],
   "source": [
    "try:\n",
    "    int('Rahul')\n",
    "except (ValueError, TypeError) as e:\n",
    "    print(\"This is an error\")"
   ]
  },
  {
   "cell_type": "code",
   "execution_count": 4,
   "id": "91d1aca9",
   "metadata": {},
   "outputs": [
    {
     "name": "stdout",
     "output_type": "stream",
     "text": [
      "No module named 'sd'\n"
     ]
    }
   ],
   "source": [
    "try:\n",
    "    import sd\n",
    "except ImportError as ex:\n",
    "    print(ex)"
   ]
  },
  {
   "cell_type": "code",
   "execution_count": 11,
   "id": "fcbfc25a",
   "metadata": {},
   "outputs": [
    {
     "name": "stdout",
     "output_type": "stream",
     "text": [
      "'key10'\n"
     ]
    }
   ],
   "source": [
    "try:\n",
    "    d={1:[3,4,5,6], 'key':'Sudhir'}\n",
    "    d[\"key10\"]\n",
    "except KeyError as e:\n",
    "    print(e)"
   ]
  },
  {
   "cell_type": "code",
   "execution_count": 13,
   "id": "15259204",
   "metadata": {},
   "outputs": [
    {
     "name": "stdout",
     "output_type": "stream",
     "text": [
      "'str' object has no attribute 'test'\n"
     ]
    }
   ],
   "source": [
    "try:\n",
    "    'sudh'.test()\n",
    "except AttributeError as e:\n",
    "    print(e)"
   ]
  },
  {
   "cell_type": "code",
   "execution_count": 14,
   "id": "fa82df7b",
   "metadata": {},
   "outputs": [
    {
     "name": "stdout",
     "output_type": "stream",
     "text": [
      "list index out of range\n"
     ]
    }
   ],
   "source": [
    "try:\n",
    "    l=[1,2,3,4]\n",
    "    l[10]\n",
    "except IndexError as e:\n",
    "    print(e)"
   ]
  },
  {
   "cell_type": "code",
   "execution_count": 15,
   "id": "6eb48f9a",
   "metadata": {},
   "outputs": [
    {
     "name": "stdout",
     "output_type": "stream",
     "text": [
      "unsupported operand type(s) for +: 'int' and 'str'\n"
     ]
    }
   ],
   "source": [
    "try:\n",
    "    124+'Str'\n",
    "except TypeError as e:\n",
    "    print(e)"
   ]
  },
  {
   "cell_type": "markdown",
   "id": "3d882763",
   "metadata": {},
   "source": [
    "Practising of Exception Handling"
   ]
  },
  {
   "cell_type": "code",
   "execution_count": 16,
   "id": "e246bc1e",
   "metadata": {},
   "outputs": [
    {
     "name": "stdout",
     "output_type": "stream",
     "text": [
      "division by zero\n"
     ]
    }
   ],
   "source": [
    "#use always a specific exception\n",
    "try:\n",
    "    10/0\n",
    "except ZeroDivisionError as e:\n",
    "    print(e)"
   ]
  },
  {
   "cell_type": "code",
   "execution_count": 18,
   "id": "d277bafe",
   "metadata": {},
   "outputs": [
    {
     "name": "stdout",
     "output_type": "stream",
     "text": [
      "This is a zero division error I'm handling:  division by zero\n"
     ]
    }
   ],
   "source": [
    "#print always a valid msg\n",
    "try:\n",
    "    10/0\n",
    "except ZeroDivisionError as e:\n",
    "    print(\"This is a zero division error I'm handling: \",e)"
   ]
  },
  {
   "cell_type": "code",
   "execution_count": 22,
   "id": "1fafc14a",
   "metadata": {
    "scrolled": true
   },
   "outputs": [
    {
     "name": "stderr",
     "output_type": "stream",
     "text": [
      "2024-06-06 10:13:40,362 [18108] ERROR    root:7: [JupyterRequire] This is my zero division error i'm handling division by zero\n"
     ]
    }
   ],
   "source": [
    "#always try to log\n",
    "import logging\n",
    "logging.basicConfig(filename='error.log', level=logging.ERROR)\n",
    "try:\n",
    "    10/0\n",
    "except ZeroDivisionError as e:\n",
    "    logging.error(\"This is my zero division error i'm handling {}\".format(e))    "
   ]
  },
  {
   "cell_type": "code",
   "execution_count": 21,
   "id": "ff65102a",
   "metadata": {},
   "outputs": [
    {
     "name": "stderr",
     "output_type": "stream",
     "text": [
      "2024-06-06 10:13:23,828 [18108] ERROR    root:9: [JupyterRequire] This is my zero division error i'm handling division by zero\n"
     ]
    }
   ],
   "source": [
    "#Always avoid to write a multiple exception handling\n",
    "try:\n",
    "    10/0\n",
    "except FileNotFoundError as e:\n",
    "    logging.error(\"This is my not found file {}\".format(e))\n",
    "except AttributeError as e:\n",
    "    logging.error(\"This is my not found file {}\".format(e))\n",
    "except ZeroDivisionError as e:\n",
    "    logging.error(\"This is my zero division error i'm handling {}\".format(e))    "
   ]
  },
  {
   "cell_type": "code",
   "execution_count": 23,
   "id": "eb37fc03",
   "metadata": {},
   "outputs": [],
   "source": [
    "#prepare a proper documentation\n",
    "#cleanup all the resources b4 at that particular location"
   ]
  },
  {
   "cell_type": "code",
   "execution_count": null,
   "id": "70a772d9",
   "metadata": {},
   "outputs": [],
   "source": []
  }
 ],
 "metadata": {
  "finalized": {
   "timestamp": 1717652143506,
   "trusted": false
  },
  "kernelspec": {
   "display_name": "Python 3 (ipykernel)",
   "language": "python",
   "name": "python3"
  },
  "language_info": {
   "codemirror_mode": {
    "name": "ipython",
    "version": 3
   },
   "file_extension": ".py",
   "mimetype": "text/x-python",
   "name": "python",
   "nbconvert_exporter": "python",
   "pygments_lexer": "ipython3",
   "version": "3.9.12"
  }
 },
 "nbformat": 4,
 "nbformat_minor": 5
}
