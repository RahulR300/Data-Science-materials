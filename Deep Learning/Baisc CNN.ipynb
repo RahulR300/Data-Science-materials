{
 "cells": [
  {
   "cell_type": "code",
   "execution_count": 1,
   "id": "smoking-default",
   "metadata": {},
   "outputs": [],
   "source": [
    "import numpy as np\n",
    "import matplotlib.pyplot as plt\n",
    "%matplotlib inline"
   ]
  },
  {
   "cell_type": "code",
   "execution_count": 2,
   "id": "tender-husband",
   "metadata": {},
   "outputs": [],
   "source": [
    "import keras\n",
    "import tensorflow as tf\n",
    "from tensorflow import keras\n",
    "from keras.models import Sequential\n",
    "from tensorflow.keras.layers import Input, Conv2D, Dense, Flatten, Dropout\n",
    "from tensorflow.keras.layers import GlobalMaxPooling2D, MaxPooling2D\n",
    "from tensorflow.keras.layers import BatchNormalization\n",
    "from tensorflow.keras.models import Model\n",
    "from tensorflow.keras import regularizers, optimizers\n",
    "from tensorflow.keras.utils import to_categorical"
   ]
  },
  {
   "cell_type": "code",
   "execution_count": 3,
   "id": "controlled-brooklyn",
   "metadata": {},
   "outputs": [],
   "source": [
    "from sklearn.metrics import accuracy_score"
   ]
  },
  {
   "cell_type": "code",
   "execution_count": 4,
   "id": "female-monkey",
   "metadata": {},
   "outputs": [],
   "source": [
    "from tensorflow.keras.datasets import cifar10"
   ]
  },
  {
   "cell_type": "code",
   "execution_count": 5,
   "id": "accredited-forge",
   "metadata": {},
   "outputs": [],
   "source": [
    "(X_train, y_train), (X_test, y_test) = cifar10.load_data()"
   ]
  },
  {
   "cell_type": "code",
   "execution_count": 6,
   "id": "handmade-soldier",
   "metadata": {},
   "outputs": [
    {
     "data": {
      "text/plain": [
       "<matplotlib.image.AxesImage at 0x247402de8e0>"
      ]
     },
     "execution_count": 6,
     "metadata": {},
     "output_type": "execute_result"
    },
    {
     "data": {
      "image/png": "[encoded data removed]",
      "text/plain": [
       "<Figure size 432x288 with 1 Axes>"
      ]
     },
     "metadata": {
      "needs_background": "light"
     },
     "output_type": "display_data"
    }
   ],
   "source": [
    "plt.imshow(X_train[0])"
   ]
  },
  {
   "cell_type": "code",
   "execution_count": 7,
   "id": "southeast-metadata",
   "metadata": {},
   "outputs": [
    {
     "data": {
      "text/plain": [
       "<matplotlib.image.AxesImage at 0x247440e7580>"
      ]
     },
     "execution_count": 7,
     "metadata": {},
     "output_type": "execute_result"
    },
    {
     "data": {
      "image/png": "[encoded data removed]",
      "text/plain": [
       "<Figure size 432x288 with 1 Axes>"
      ]
     },
     "metadata": {
      "needs_background": "light"
     },
     "output_type": "display_data"
    }
   ],
   "source": [
    "plt.imshow(X_train[5])"
   ]
  },
  {
   "cell_type": "code",
   "execution_count": 8,
   "id": "automated-confidence",
   "metadata": {},
   "outputs": [
    {
     "data": {
      "text/plain": [
       "array([[[154, 177, 187],\n",
       "        [126, 137, 136],\n",
       "        [105, 104,  95],\n",
       "        ...,\n",
       "        [ 91,  95,  71],\n",
       "        [ 87,  90,  71],\n",
       "        [ 79,  81,  70]],\n",
       "\n",
       "       [[140, 160, 169],\n",
       "        [145, 153, 154],\n",
       "        [125, 125, 118],\n",
       "        ...,\n",
       "        [ 96,  99,  78],\n",
       "        [ 77,  80,  62],\n",
       "        [ 71,  73,  61]],\n",
       "\n",
       "       [[140, 155, 164],\n",
       "        [139, 146, 149],\n",
       "        [115, 115, 112],\n",
       "        ...,\n",
       "        [ 79,  82,  64],\n",
       "        [ 68,  70,  55],\n",
       "        [ 67,  69,  55]],\n",
       "\n",
       "       ...,\n",
       "\n",
       "       [[175, 167, 166],\n",
       "        [156, 154, 160],\n",
       "        [154, 160, 170],\n",
       "        ...,\n",
       "        [ 42,  34,  36],\n",
       "        [ 61,  53,  57],\n",
       "        [ 93,  83,  91]],\n",
       "\n",
       "       [[165, 154, 128],\n",
       "        [156, 152, 130],\n",
       "        [159, 161, 142],\n",
       "        ...,\n",
       "        [103,  93,  96],\n",
       "        [123, 114, 120],\n",
       "        [131, 121, 131]],\n",
       "\n",
       "       [[163, 148, 120],\n",
       "        [158, 148, 122],\n",
       "        [163, 156, 133],\n",
       "        ...,\n",
       "        [143, 133, 139],\n",
       "        [143, 134, 142],\n",
       "        [143, 133, 144]]], dtype=uint8)"
      ]
     },
     "execution_count": 8,
     "metadata": {},
     "output_type": "execute_result"
    }
   ],
   "source": [
    "X_train[1]"
   ]
  },
  {
   "cell_type": "code",
   "execution_count": 9,
   "id": "passive-spell",
   "metadata": {},
   "outputs": [],
   "source": [
    "X_train = X_train/255\n",
    "X_test = X_test/255"
   ]
  },
  {
   "cell_type": "code",
   "execution_count": 10,
   "id": "written-ethics",
   "metadata": {},
   "outputs": [],
   "source": [
    "y_train_en = to_categorical(y_train,10)"
   ]
  },
  {
   "cell_type": "code",
   "execution_count": 11,
   "id": "previous-retail",
   "metadata": {},
   "outputs": [],
   "source": [
    "y_test_en = to_categorical(y_test,10)"
   ]
  },
  {
   "cell_type": "code",
   "execution_count": 12,
   "id": "spoken-zoning",
   "metadata": {},
   "outputs": [],
   "source": [
    "model = Sequential()\n",
    "model.add(Conv2D(32,(4,4),input_shape=(32,32,3),activation='relu'))\n",
    "model.add(MaxPooling2D(pool_size=(2,2)))\n",
    "model.add(Conv2D(32,(4,4),input_shape=(32,32,3),activation='relu'))\n",
    "model.add(MaxPooling2D(pool_size=(2,2)))\n",
    "\n",
    "model.add(Flatten())\n",
    "\n",
    "model.add(Dense(128,activation='relu'))\n",
    "model.add(Dense(10,activation='softmax'))\n",
    "\n",
    "model.compile(loss='categorical_crossentropy',optimizer='adam',metrics=['accuracy'])\n"
   ]
  },
  {
   "cell_type": "code",
   "execution_count": 13,
   "id": "potential-power",
   "metadata": {},
   "outputs": [
    {
     "name": "stdout",
     "output_type": "stream",
     "text": [
      "Model: \"sequential\"\n",
      "_________________________________________________________________\n",
      " Layer (type)                Output Shape              Param #   \n",
      "=================================================================\n",
      " conv2d (Conv2D)             (None, 29, 29, 32)        1568      \n",
      "                                                                 \n",
      " max_pooling2d (MaxPooling2D  (None, 14, 14, 32)       0         \n",
      " )                                                               \n",
      "                                                                 \n",
      " conv2d_1 (Conv2D)           (None, 11, 11, 32)        16416     \n",
      "                                                                 \n",
      " max_pooling2d_1 (MaxPooling  (None, 5, 5, 32)         0         \n",
      " 2D)                                                             \n",
      "                                                                 \n",
      " flatten (Flatten)           (None, 800)               0         \n",
      "                                                                 \n",
      " dense (Dense)               (None, 128)               102528    \n",
      "                                                                 \n",
      " dense_1 (Dense)             (None, 10)                1290      \n",
      "                                                                 \n",
      "=================================================================\n",
      "Total params: 121,802\n",
      "Trainable params: 121,802\n",
      "Non-trainable params: 0\n",
      "_________________________________________________________________\n"
     ]
    }
   ],
   "source": [
    "model.summary()"
   ]
  },
  {
   "cell_type": "code",
   "execution_count": null,
   "id": "accomplished-peace",
   "metadata": {},
   "outputs": [
    {
     "name": "stdout",
     "output_type": "stream",
     "text": [
      "Epoch 1/20\n",
      "1563/1563 [==============================] - 68s 42ms/step - loss: 1.5494 - accuracy: 0.4334 - val_loss: 1.3340 - val_accuracy: 0.5210\n",
      "Epoch 2/20\n",
      "1563/1563 [==============================] - 68s 43ms/step - loss: 1.2307 - accuracy: 0.5641 - val_loss: 1.1886 - val_accuracy: 0.5797\n",
      "Epoch 3/20\n",
      "1563/1563 [==============================] - 67s 43ms/step - loss: 1.1117 - accuracy: 0.6102 - val_loss: 1.0970 - val_accuracy: 0.6192\n",
      "Epoch 4/20\n",
      "1563/1563 [==============================] - 68s 43ms/step - loss: 1.0218 - accuracy: 0.6413 - val_loss: 1.0318 - val_accuracy: 0.6402\n",
      "Epoch 5/20\n",
      "1563/1563 [==============================] - 67s 43ms/step - loss: 0.9495 - accuracy: 0.6664 - val_loss: 1.0782 - val_accuracy: 0.6242\n",
      "Epoch 6/20\n",
      "1563/1563 [==============================] - 67s 43ms/step - loss: 0.8941 - accuracy: 0.6865 - val_loss: 1.0041 - val_accuracy: 0.6496\n",
      "Epoch 7/20\n",
      "1563/1563 [==============================] - 67s 43ms/step - loss: 0.8464 - accuracy: 0.7040 - val_loss: 0.9840 - val_accuracy: 0.6657\n",
      "Epoch 8/20\n",
      "1563/1563 [==============================] - 67s 43ms/step - loss: 0.8007 - accuracy: 0.7192 - val_loss: 0.9990 - val_accuracy: 0.6589\n",
      "Epoch 9/20\n",
      "1563/1563 [==============================] - 66s 43ms/step - loss: 0.7675 - accuracy: 0.7298 - val_loss: 0.9618 - val_accuracy: 0.6775\n",
      "Epoch 10/20\n",
      "1563/1563 [==============================] - 67s 43ms/step - loss: 0.7311 - accuracy: 0.7438 - val_loss: 1.0173 - val_accuracy: 0.6626\n",
      "Epoch 11/20\n",
      "1563/1563 [==============================] - 67s 43ms/step - loss: 0.6944 - accuracy: 0.7572 - val_loss: 1.0101 - val_accuracy: 0.6668\n",
      "Epoch 12/20\n",
      "1563/1563 [==============================] - 66s 42ms/step - loss: 0.6668 - accuracy: 0.7627 - val_loss: 1.0043 - val_accuracy: 0.6742\n",
      "Epoch 13/20\n",
      "1563/1563 [==============================] - 67s 43ms/step - loss: 0.6399 - accuracy: 0.7757 - val_loss: 1.0405 - val_accuracy: 0.6677\n",
      "Epoch 14/20\n",
      "1167/1563 [=====================>........] - ETA: 14s - loss: 0.6021 - accuracy: 0.7882"
     ]
    }
   ],
   "source": [
    "history = model.fit(X_train, y_train_en, epochs=20,verbose=1,validation_data=(X_test,y_test_en))"
   ]
  },
  {
   "cell_type": "code",
   "execution_count": null,
   "id": "arbitrary-history",
   "metadata": {},
   "outputs": [],
   "source": []
  }
 ],
 "metadata": {
  "kernelspec": {
   "display_name": "Python 3 (ipykernel)",
   "language": "python",
   "name": "python3"
  },
  "language_info": {
   "codemirror_mode": {
    "name": "ipython",
    "version": 3
   },
   "file_extension": ".py",
   "mimetype": "text/x-python",
   "name": "python",
   "nbconvert_exporter": "python",
   "pygments_lexer": "ipython3",
   "version": "3.9.12"
  }
 },
 "nbformat": 4,
 "nbformat_minor": 5
}
